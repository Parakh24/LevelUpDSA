{
  "nbformat": 4,
  "nbformat_minor": 0,
  "metadata": {
    "colab": {
      "provenance": [],
      "authorship_tag": "ABX9TyNmQJpQCTirTmWBK9p910me",
      "include_colab_link": true
    },
    "kernelspec": {
      "name": "python3",
      "display_name": "Python 3"
    },
    "language_info": {
      "name": "python"
    }
  },
  "cells": [
    {
      "cell_type": "markdown",
      "metadata": {
        "id": "view-in-github",
        "colab_type": "text"
      },
      "source": [
        "<a href=\"https://colab.research.google.com/github/Parakh24/LevelUpDSA/blob/master/Sliding_Window_Technique.ipynb\" target=\"_parent\"><img src=\"https://colab.research.google.com/assets/colab-badge.svg\" alt=\"Open In Colab\"/></a>"
      ]
    },
    {
      "cell_type": "markdown",
      "source": [
        "# Sliding Window"
      ],
      "metadata": {
        "id": "dODhcoNW_9BO"
      }
    },
    {
      "cell_type": "markdown",
      "source": [
        "## Find the maximum value of sum of all subarrays of size k"
      ],
      "metadata": {
        "id": "A95i99HcyB3H"
      }
    },
    {
      "cell_type": "code",
      "source": [
        "%%writefile subarray.cpp\n",
        "\n",
        "#include<bits/stdc++.h>\n",
        "using namespace std;\n",
        "\n",
        "int sliding_window(vector<int> &v , int k){\n",
        "\n",
        "   int n = v.size();\n",
        "   int sum = 0;\n",
        "   int maximum = INT_MIN;\n",
        "   int start = 0; int end = 0;\n",
        "\n",
        "   while(end < n){\n",
        "\n",
        "\n",
        "     int val = end - start + 1;\n",
        "     sum += v[end];\n",
        "\n",
        "     if(val < k){\n",
        "       end++;\n",
        "     }\n",
        "\n",
        "     else if(val == k){\n",
        "\n",
        "      maximum = max(maximum , sum);\n",
        "      sum -= v[start];\n",
        "\n",
        "      start++; end++;\n",
        "\n",
        "     }\n",
        "\n",
        "   }\n",
        "\n",
        "   return maximum;\n",
        "\n",
        "}\n",
        "\n",
        "\n",
        "int main() {\n",
        "\n",
        "vector<int> v = {2 , 3 , 4 , 1 , 8 , 6 , 9};\n",
        "int window_size = 3;\n",
        "\n",
        "int result = sliding_window(v , window_size);\n",
        "\n",
        "cout << result << endl;\n",
        "\n",
        "  return 0;\n",
        "}"
      ],
      "metadata": {
        "colab": {
          "base_uri": "https://localhost:8080/"
        },
        "id": "TdAxieIjyHFU",
        "outputId": "e01f674e-e6fc-47ea-dfaa-8ae382a772ba"
      },
      "execution_count": null,
      "outputs": [
        {
          "output_type": "stream",
          "name": "stdout",
          "text": [
            "Overwriting subarray.cpp\n"
          ]
        }
      ]
    },
    {
      "cell_type": "code",
      "source": [
        "!g++ -o subarray subarray.cpp\n",
        "!./subarray"
      ],
      "metadata": {
        "colab": {
          "base_uri": "https://localhost:8080/"
        },
        "id": "RlyoY4Zc_BAn",
        "outputId": "3c296721-b72c-4fba-ae7b-a02b9be4f86d"
      },
      "execution_count": null,
      "outputs": [
        {
          "output_type": "stream",
          "name": "stdout",
          "text": [
            "23\n"
          ]
        }
      ]
    },
    {
      "cell_type": "markdown",
      "source": [
        "## First Negative Number in every window size of K"
      ],
      "metadata": {
        "id": "iEViGRcN_tRO"
      }
    },
    {
      "cell_type": "code",
      "source": [
        "%%writefile slidingwindow.cpp\n",
        "\n",
        "#include<bits/stdc++.h>\n",
        "using namespace std;\n",
        "\n",
        "vector<int> slidingwindow(vector<int> v , int k){\n",
        "\n",
        "int start = 0;\n",
        "int end = 0;\n",
        "int n = v.size();\n",
        "\n",
        "vector<int> ans;\n",
        "deque<int> q;\n",
        "\n",
        "while(end < n){\n",
        "\n",
        "int val = end - start + 1;\n",
        "\n",
        "if(v[end] < 0){\n",
        "\n",
        "q.push_back(v[end]);\n",
        "\n",
        "}\n",
        "\n",
        "if(val < k){\n",
        "\n",
        "end++;\n",
        "\n",
        "}\n",
        "\n",
        "else if(val == k){\n",
        "\n",
        "if(!q.empty()){\n",
        "\n",
        "ans.push_back(q.front());\n",
        "\n",
        "}\n",
        "\n",
        "else{\n",
        "  ans.push_back(0);\n",
        "}\n",
        "\n",
        "if(!q.empty() && v[start] == q.front()){\n",
        "  q.pop_front();\n",
        "}\n",
        "\n",
        "start++; end++;\n",
        "\n",
        "}\n",
        "\n",
        "}\n",
        "\n",
        "return ans;\n",
        "\n",
        "}\n",
        "\n",
        "\n",
        "int main() {\n",
        "\n",
        "vector<int> v = {3 , 4 , 5 , 2 , -2 , 6 , -4 , 3};\n",
        "int k = 3;\n",
        "\n",
        "vector<int> result = slidingwindow(v , k);\n",
        "\n",
        "for(auto &val: result){\n",
        "\n",
        "  cout << val << endl;\n",
        "\n",
        "}\n",
        "\n",
        "  return 0;\n",
        "}"
      ],
      "metadata": {
        "id": "8K2iq11j_xv0",
        "colab": {
          "base_uri": "https://localhost:8080/"
        },
        "outputId": "a032fbf8-4233-45bc-f60b-7bd826246af6"
      },
      "execution_count": null,
      "outputs": [
        {
          "output_type": "stream",
          "name": "stdout",
          "text": [
            "Overwriting slidingwindow.cpp\n"
          ]
        }
      ]
    },
    {
      "cell_type": "code",
      "source": [
        "!g++ -o slidingwindow slidingwindow.cpp\n",
        "!./slidingwindow"
      ],
      "metadata": {
        "colab": {
          "base_uri": "https://localhost:8080/"
        },
        "id": "6bePqH-PExWm",
        "outputId": "a608774e-47f6-4693-b0ce-6991bae94e7d"
      },
      "execution_count": null,
      "outputs": [
        {
          "output_type": "stream",
          "name": "stdout",
          "text": [
            "0\n",
            "0\n",
            "-2\n",
            "-2\n",
            "-2\n",
            "-4\n"
          ]
        }
      ]
    },
    {
      "cell_type": "markdown",
      "source": [
        "## Count occurences of Anagram"
      ],
      "metadata": {
        "id": "jqMzkOyvhfd4"
      }
    },
    {
      "cell_type": "code",
      "source": [
        "%%writefile slidingwindow_2.cpp\n",
        "\n",
        "#include<bits/stdc++.h>\n",
        "using namespace std;\n",
        "\n",
        "int Count_anagram(string txt , string pat){\n",
        "\n",
        "  int k = pat.size();\n",
        "  int n = txt.size();\n",
        "  int start = 0; int end = 0;\n",
        "  unordered_map<char , int> patMap;\n",
        "\n",
        "  for(auto ch : char){\n",
        "     patMap[ch]++;\n",
        "  }\n",
        "\n",
        "  int count = patMap.size();\n",
        "  int ans = 0;\n",
        "\n",
        "  while(end < n){\n",
        "\n",
        "    if(patMap.find(txt[end]) != patMap.end()){\n",
        "          patMap[txt[end]]--;\n",
        "\n",
        "          if(patMap[txt[end]] == 0){\n",
        "             count--;\n",
        "          }\n",
        "    }\n",
        "\n",
        "\n",
        "    if(end - start + 1 < k){\n",
        "       end++;\n",
        "    }\n",
        "\n",
        "    if(end - start + 1 == k){\n",
        "       if(count == 0){\n",
        "          ans++;\n",
        "       }\n",
        "\n",
        "\n",
        "       if(patMap.find(txt[start]) != patMap.end()){\n",
        "\n",
        "         if(patMap[txt[start]] == 0){\n",
        "           count++;\n",
        "           patMap[txt[start]]++;\n",
        "         }\n",
        "\n",
        "       }\n",
        "\n",
        "       start++; end++;\n",
        "\n",
        "    }\n",
        "\n",
        "\n",
        "  }\n",
        "\n",
        "  return ans;\n",
        "\n",
        "\n",
        "}\n",
        "\n",
        "\n",
        "int main() {\n",
        "\n",
        "string txt = \"fordjondoneorfvefvrfro\";\n",
        "\n",
        "string pat = \"for\";\n",
        "\n",
        "int result = Count_anagram(txt , pat);\n",
        "cout << result << endl;\n",
        "\n",
        "  return 0;\n",
        "}"
      ],
      "metadata": {
        "id": "TGfNhWS_hhrY"
      },
      "execution_count": null,
      "outputs": []
    },
    {
      "cell_type": "markdown",
      "source": [
        "## Maximum of all subarrays of size k"
      ],
      "metadata": {
        "id": "J0_vVYwyGpd9"
      }
    },
    {
      "cell_type": "code",
      "source": [
        "%%writefile slidingwindow_3.cpp\n",
        "\n",
        "#include<bits/stdc++.h>\n",
        "using namespace std;\n",
        "\n",
        "\n",
        "vector<int> maximum_value(vector<int> &v , int k){\n",
        "\n",
        "deque<int> dq;\n",
        "int n = v.size();\n",
        "vector<int> ans;\n",
        "\n",
        "int start = 0; int end = 0;\n",
        "\n",
        "while(end < n){\n",
        "\n",
        "\n",
        "  while(!dq.empty && v[dq.back()] < v[end]){\n",
        "       dq.pop_back();\n",
        "  }\n",
        "\n",
        "  dq.push_back(end);\n",
        "\n",
        "\n",
        "  if(end - start + 1 < k){\n",
        "    end++;\n",
        "  }\n",
        "\n",
        "while(!dq.empty() && dq.front() < start){\n",
        "    dq.pop_front();\n",
        "}\n",
        "\n",
        "\n",
        "if(end - start + 1 == k){\n",
        "\n",
        "    ans.push_back(v[dq.front]);\n",
        "    start++; end++;\n",
        "\n",
        "  }\n",
        "\n",
        "\n",
        "}\n",
        "\n",
        "return ans;\n",
        "\n",
        "\n",
        "}\n",
        "\n",
        "\n",
        "int main() {\n",
        "\n",
        "vector<int> v = {3 , 4 , -1 , -3 , 5 , 7 , 8};\n",
        "int k = 3;\n",
        "\n",
        "vector<int> result = maximum_value(v , k);\n",
        "\n",
        "for(auto &val : result){\n",
        "  cout << val << endl;\n",
        "}\n",
        "\n",
        "\n",
        "  return 0;\n",
        "}"
      ],
      "metadata": {
        "id": "0stdc-YsGjba"
      },
      "execution_count": null,
      "outputs": []
    },
    {
      "cell_type": "markdown",
      "source": [
        "## Variable Size of Sliding Window"
      ],
      "metadata": {
        "id": "nRiLJsLoqsHY"
      }
    },
    {
      "cell_type": "code",
      "source": [
        "%%writefile slidingwindow_4.cpp\n",
        "\n",
        "#include<bits/stdc++.h>\n",
        "using namespace std;\n",
        "\n",
        "int largest_subarray(vector<int> &v , int k){\n",
        "\n",
        "   int start = 0; int end = 0;\n",
        "   int maxi = INT_MIN;\n",
        "   int n = v.size();\n",
        "   long sum = 0;\n",
        "\n",
        "while(end < n){\n",
        "\n",
        "  int val = end - start + 1;\n",
        "\n",
        "  sum += v[end];\n",
        "\n",
        "     if(sum < k) {\n",
        "       end++;\n",
        "     }\n",
        "\n",
        "     if(sum == k){\n",
        "\n",
        "        maxi = max(maxi , val);\n",
        "        end++;\n",
        "     }\n",
        "\n",
        "     if(sum > k){\n",
        "\n",
        "      while(sum > k){\n",
        "\n",
        "        sum -= v[start];\n",
        "        start++;\n",
        "\n",
        "      }\n",
        "      end++;\n",
        "\n",
        "\n",
        "     }\n",
        "\n",
        "}\n",
        "\n",
        "return maxi;\n",
        "\n",
        "}\n",
        "\n",
        "int main() {\n",
        "\n",
        "vector<int> v = {3 , 4 , -1 , -2 , 6 , 8};\n",
        "int sum = 7;\n",
        "\n",
        "cout << largest_subarray(v , sum);\n",
        "\n",
        "  return 0;\n",
        "}"
      ],
      "metadata": {
        "id": "eYzNqomBqvKj"
      },
      "execution_count": null,
      "outputs": []
    },
    {
      "cell_type": "markdown",
      "source": [
        "## Longest Substring with k Unique Characters"
      ],
      "metadata": {
        "id": "GlGpOaGp7hUN"
      }
    },
    {
      "cell_type": "code",
      "source": [
        "%%writefile slidingwindow_5.cpp\n",
        "\n",
        "#include<bits/stdc++.h>\n",
        "using namespace std;\n",
        "\n",
        "int longest_substring(string str , int k) {\n",
        "\n",
        "  int n = str.size();\n",
        "  int length = INT_MIN;\n",
        "  int unordered_map<char , int> m;\n",
        "  int i=0; int j=0;\n",
        "\n",
        "while(j<n){\n",
        "\n",
        "m[str[j]]++;\n",
        "\n",
        "int unique = m.size();\n",
        "int val = j-i+1;\n",
        "\n",
        "if(unique < k){\n",
        "  j++;\n",
        "}\n",
        "\n",
        "else if(unique == k){\n",
        "\n",
        " length = max(length , val);\n",
        " j++;\n",
        "\n",
        "}\n",
        "\n",
        "else if(unique > k){\n",
        "\n",
        " while(unique > k){\n",
        "    m[str[i]]--;\n",
        "\n",
        "    if(m[str[i]] == 0)\n",
        "      m.erase(str[i]);\n",
        "\n",
        "    i++;\n",
        " }\n",
        "\n",
        "j++;\n",
        "\n",
        "}\n",
        "\n",
        "\n",
        "}\n",
        "\n",
        "return length;\n",
        "\n",
        "}\n",
        "\n",
        "\n",
        "int main() {\n",
        "\n",
        "string str = \"aabaacdfgegrjioegjofvdpkodvaaaavabg\";\n",
        "int k_uniq = 3;\n",
        "\n",
        "cout << longest_substring(str , k_uniq);\n",
        "\n",
        "  return 0;\n",
        "}"
      ],
      "metadata": {
        "id": "EkUFSX5z7hA3"
      },
      "execution_count": null,
      "outputs": []
    },
    {
      "cell_type": "markdown",
      "source": [
        "## Longest Substring with no Repeating Characters"
      ],
      "metadata": {
        "id": "Ck_-4eCefIVi"
      }
    },
    {
      "cell_type": "code",
      "source": [
        "%%writefile slidingwindow_5.cpp\n",
        "\n",
        "#include<bits/stdc++.h>\n",
        "using namespace std;\n",
        "\n",
        "int longest_substring(string str) {\n",
        "\n",
        "  int n = str.size();\n",
        "  int length = 0;\n",
        "  unordered_map<char , int> m;\n",
        "  int i=0; int j=0;\n",
        "\n",
        "while(j<n){\n",
        "\n",
        "m[str[j]]++;\n",
        "\n",
        "int unique = m.size();\n",
        "int val = j-i+1;\n",
        "\n",
        "\n",
        "if(unique == j-i+1){\n",
        "\n",
        " length = max(length , val);\n",
        " j++;\n",
        "\n",
        "}\n",
        "\n",
        "else{\n",
        "\n",
        " while(unique < j-i+1){\n",
        "    m[str[i]]--;\n",
        "\n",
        "    if(m[str[i]] == 0)\n",
        "      m.erase(str[i]);\n",
        "\n",
        "    i++;\n",
        " }\n",
        "\n",
        "j++;\n",
        "\n",
        "}\n",
        "\n",
        "\n",
        "}\n",
        "\n",
        "return length;\n",
        "\n",
        "}\n",
        "\n",
        "\n",
        "int main() {\n",
        "\n",
        "string str = \"aabaacdfgegrjioegjofvdpkodvaaaavabg\";\n",
        "\n",
        "cout << longest_substring(str);\n",
        "\n",
        "  return 0;\n",
        "}"
      ],
      "metadata": {
        "id": "Cp3OiFhdfOgC"
      },
      "execution_count": null,
      "outputs": []
    },
    {
      "cell_type": "markdown",
      "source": [
        "## Pick Toys\n",
        "\n",
        "It is the concept of longest substring with k unique characters"
      ],
      "metadata": {
        "id": "-k89MV_8ua35"
      }
    },
    {
      "cell_type": "code",
      "source": [
        "%%writefile slidingwindow_6.cpp\n",
        "\n",
        "#include<bits/stdc++.h>\n",
        "using namespace std;\n",
        "\n",
        "int pick_toys(string str , int k){\n",
        "\n",
        "   int start = 0;\n",
        "   int n = str.size();\n",
        "   int end = 0;\n",
        "   int maxi = 0;\n",
        "\n",
        "   unordered_map<char , int> m;\n",
        "   int m_size;\n",
        "\n",
        "\n",
        "while(end < n){\n",
        "\n",
        "m[str[end]]++;\n",
        "\n",
        "m_size = m.size();\n",
        "\n",
        "\n",
        "if(m_size < k){\n",
        "  end++;\n",
        "}\n",
        "\n",
        "\n",
        "if(m_size == k){\n",
        "\n",
        " maxi = max(maxi , end-start+1);\n",
        " end++;\n",
        "}\n",
        "\n",
        "\n",
        "if(m_size > k){\n",
        "\n",
        "while(m_size > k){\n",
        "\n",
        " m[str[start]]--;\n",
        "\n",
        " if(m[str[start]] == 0){\n",
        "   m.erase(str[start]);\n",
        " }\n",
        "\n",
        " start++;\n",
        "\n",
        "}\n",
        "\n",
        "end++;\n",
        "\n",
        "}\n",
        "\n",
        "}\n",
        "\n",
        "return maxi;\n",
        "\n",
        "}\n",
        "\n",
        "\n",
        "int main() {\n",
        "\n",
        "string str = \"aabaababacdecdeaba\";\n",
        "int k = 2;\n",
        "\n",
        "cout << pick_toys(str , k) << endl;\n",
        "\n",
        "  return 0;\n",
        "}"
      ],
      "metadata": {
        "id": "90x9y261ueb7",
        "colab": {
          "base_uri": "https://localhost:8080/"
        },
        "outputId": "640b618e-c288-4014-f857-bef399ac68f1"
      },
      "execution_count": null,
      "outputs": [
        {
          "output_type": "stream",
          "name": "stdout",
          "text": [
            "Overwriting slidingwindow_6.cpp\n"
          ]
        }
      ]
    },
    {
      "cell_type": "code",
      "source": [
        "!g++ -o slidingwindow_6 slidingwindow_6.cpp\n",
        "!./slidingwindow_6"
      ],
      "metadata": {
        "id": "VKFut52OgfMj"
      },
      "execution_count": null,
      "outputs": []
    },
    {
      "cell_type": "markdown",
      "source": [
        "## Minimum Window Substring"
      ],
      "metadata": {
        "id": "egojxcdjhc9r"
      }
    },
    {
      "cell_type": "code",
      "source": [
        "%%writefile slidingwindow_7.cpp\n",
        "\n",
        "#include<bits/stdc++.h>\n",
        "using namespace std;\n",
        "\n",
        "int window_substring(string str , string str_1){\n",
        "\n",
        "   int i=0; int j=0;\n",
        "   int n = str.size();\n",
        "   int length = INT_MAX;\n",
        "   unordered_map<char , int> m;\n",
        "\n",
        "   for(auto &ch : str_1){\n",
        "      m[ch]++;\n",
        "   }\n",
        "\n",
        "   int count = str_1.size();\n",
        "\n",
        "   while(j < n){\n",
        "\n",
        "     if(m[str[j]]>0){\n",
        "       count--;\n",
        "     }\n",
        "     m[str[j]]--;\n",
        "     j++;\n",
        "\n",
        "     while(count == 0){\n",
        "\n",
        "       length = min(length , j-i);\n",
        "\n",
        "       m[str[i]]++;\n",
        "\n",
        "       if(m.find(str[i]) != m.end() && m[str[i]] > 0){\n",
        "          count++;\n",
        "       }\n",
        "       i++;\n",
        "\n",
        "     }\n",
        "\n",
        "}\n",
        "\n",
        "return (length == INT_MAX) ? -1 : length;\n",
        "\n",
        "\n",
        "}\n",
        "\n",
        "\n",
        "int main() {\n",
        "\n",
        "string str = \"totttttfghafjdntoatcmwkerkfn\";\n",
        "string str_1 = \"tota\";\n",
        "\n",
        "cout << window_substring(str , str_1);\n",
        "\n",
        "  return 0;\n",
        "}"
      ],
      "metadata": {
        "colab": {
          "base_uri": "https://localhost:8080/"
        },
        "id": "ziHIz5SQhzKW",
        "outputId": "c7135ebb-ee31-497b-ac56-8b99e4dc08ab"
      },
      "execution_count": null,
      "outputs": [
        {
          "output_type": "stream",
          "name": "stdout",
          "text": [
            "Overwriting slidingwindow_7.cpp\n"
          ]
        }
      ]
    },
    {
      "cell_type": "code",
      "source": [
        "!g++ -o slidingwindow_7 slidingwindow_7.cpp\n",
        "!./slidingwindow_7"
      ],
      "metadata": {
        "colab": {
          "base_uri": "https://localhost:8080/"
        },
        "id": "HTYfiQhxLcIS",
        "outputId": "6d3295ef-ab5b-492b-8b7c-6597e9648896"
      },
      "execution_count": null,
      "outputs": [
        {
          "output_type": "stream",
          "name": "stdout",
          "text": [
            "4"
          ]
        }
      ]
    },
    {
      "cell_type": "markdown",
      "source": [
        "## Merge Sort"
      ],
      "metadata": {
        "id": "eG_RVGobA6IY"
      }
    },
    {
      "cell_type": "code",
      "source": [
        "%%writefile sorting_1.cpp\n",
        "\n",
        "#include<bits/stdc++.h>\n",
        "using namespace std;\n",
        "\n",
        "void merge(vector<int> arr , int st , int mid , int en){\n",
        "\n",
        " vector<int> temp;\n",
        " int i = st;\n",
        " int j = mid+1;\n",
        "\n",
        " while(i<=mid && j<=en){\n",
        "\n",
        "    if(arr[i]<=arr[j]){\n",
        "      temp.push_back(arr[i]);\n",
        "      i++;\n",
        "    }\n",
        "    else{\n",
        "      temp.push_back(arr[j]);\n",
        "      j++;\n",
        "    }\n",
        "\n",
        " }\n",
        "\n",
        " while(i <= mid){\n",
        "   temp.push_back(arr[i]);\n",
        " }\n",
        "\n",
        " while(j<=en){\n",
        "  temp.push_back(arr[j]);\n",
        " }\n",
        "\n",
        " for(int idx = 0; idx<temp; idx++){\n",
        "\n",
        "  arr[idx+st] = temp[idx];\n",
        "\n",
        " }\n",
        "\n",
        "\n",
        "}\n",
        "\n",
        "\n",
        "void mergesort(vector<int> &v , int st , int en){\n",
        "\n",
        "  if(st<en){\n",
        "\n",
        "    int mid = st + (en - st)/2;\n",
        "\n",
        "    mergesort(v , st , mid); // left\n",
        "    mergesort(v , mid+1 , en) // Right\n",
        "\n",
        "    merge(arr , st , mid , en);\n",
        "\n",
        "}\n",
        "\n",
        "}\n",
        "\n",
        "\n",
        "int main() {\n",
        "\n",
        "vector<int> v = {8 , 4 , -2,  3 , 4 , 6 , 7 , 5};\n",
        "int n = v.size();\n",
        "int st = 0;\n",
        "int en = n-1;\n",
        "\n",
        "mergesort(v , st , en);\n",
        "\n",
        "for(auto &arr : v){\n",
        "   cout << arr << \" \" << endl;\n",
        "}\n",
        "\n",
        "  return 0;\n",
        "}"
      ],
      "metadata": {
        "id": "STXtGmAlA4-L"
      },
      "execution_count": null,
      "outputs": []
    }
  ]
}