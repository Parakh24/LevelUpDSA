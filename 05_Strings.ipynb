{
  "nbformat": 4,
  "nbformat_minor": 0,
  "metadata": {
    "colab": {
      "provenance": [],
      "authorship_tag": "ABX9TyM5yooZLOb0HeTPA0F3Orvk",
      "include_colab_link": true
    },
    "kernelspec": {
      "name": "python3",
      "display_name": "Python 3"
    },
    "language_info": {
      "name": "python"
    }
  },
  "cells": [
    {
      "cell_type": "markdown",
      "metadata": {
        "id": "view-in-github",
        "colab_type": "text"
      },
      "source": [
        "<a href=\"https://colab.research.google.com/github/Parakh24/LevelUpDSA/blob/master/Strings.ipynb\" target=\"_parent\"><img src=\"https://colab.research.google.com/assets/colab-badge.svg\" alt=\"Open In Colab\"/></a>"
      ]
    },
    {
      "cell_type": "markdown",
      "source": [
        "# Strings"
      ],
      "metadata": {
        "id": "tWrsupkYgfjZ"
      }
    },
    {
      "cell_type": "markdown",
      "source": [
        "## Basic Properties\n",
        "\n",
        "``` python\n",
        "\n",
        "string str;\n",
        "cin>> str;\n",
        "cout<<str;\n",
        "  \n",
        "string str1;\n",
        "string str1(5, 'n');\n",
        "  \n",
        "cout<<str1<<endl;\n",
        "for sentence\n",
        "getline(cin, str);              \n",
        "  \n",
        "      \n",
        "append\n",
        "string s1= \"fam\";\n",
        "string s2= \"ily\";  \n",
        "  \n",
        "s1.append(s2);\n",
        "cout<<s1<<endl;\n",
        "another way for concatenation\n",
        "cout<<s1+s2<<endl;\n",
        "character access\n",
        "cout<<s1[1]<<endl;\n",
        "\n",
        "clear\n",
        "string abc= \"fsvdfgg fefvfv\";\n",
        "cout<<abc<<endl;\n",
        " abc.clear();    \n",
        "\n",
        " comparison\n",
        " string s1 = \"abc\";\n",
        " string s2 = \"xyz\";\n",
        " cout<<s2.compare(s1)<<endl;\n",
        "\n",
        " empty function\n",
        " string s1 = \"abc\";\n",
        " cout<<s1<<endl;    \n",
        " s1.clear();\n",
        " if(s1.empty()){\n",
        "    cout<<\"string is empty\"<<endl;\n",
        " }\n",
        "\n",
        "  erase function\n",
        "    string s1= \"nincompoop\";\n",
        " s1.erase(3,3);\n",
        " cout<<s1<<endl;\n",
        "\n",
        "  find function\n",
        " cout<<s1.find(\"poop\")<<endl;\n",
        "\n",
        " insert function\n",
        "   s1.insert(2, \"lol\");\n",
        "   cout<<s1<<endl;\n",
        "\n",
        "   size\n",
        "   cout<<s1.size()<<endl;\n",
        "\n",
        "length\n",
        " for(i=0;i<s1.length(); i+1) {\n",
        "cout<<s1[i]<<endl;\n",
        " }\n",
        "\n",
        "    substring\n",
        "string s = s1.substr(6, 4);\n",
        "cout<<s<<endl;\n",
        "\n",
        " numeric string\n",
        " string s1 =\"786\";    \n",
        " int x= stoi(s1);\n",
        " cout<<x+2<<endl;\n",
        "\n",
        " to_string function\n",
        "\n",
        " cout<<to_string(x) + \"2\" <<endl;\n",
        "\n",
        " sorting a string\n",
        " string s1 = \"ddffgdgrrggdgbg\";\n",
        "sort(s1.begin(), s1.end());\n",
        " cout<< s1<< endl;\n",
        "```"
      ],
      "metadata": {
        "id": "Qd9wh8gAgcJ3"
      }
    },
    {
      "cell_type": "code",
      "execution_count": null,
      "metadata": {
        "id": "ly3pKwos7DNh",
        "colab": {
          "base_uri": "https://localhost:8080/"
        },
        "outputId": "0c611084-534f-42f7-919a-e94424551eba"
      },
      "outputs": [
        {
          "output_type": "stream",
          "name": "stdout",
          "text": [
            "Overwriting strings_1.cpp\n"
          ]
        }
      ],
      "source": [
        "%%writefile strings_1.cpp\n",
        "\n",
        "#include<bits/stdc++.h>\n",
        "using namespace std;\n",
        "\n",
        "int main() {\n",
        "\n",
        "string str = \"apna college\";\n",
        "int len = str.size();\n",
        "\n",
        "str = \"hello\";\n",
        "cout << str << endl;\n",
        "return 0;\n",
        "\n",
        "}"
      ]
    },
    {
      "cell_type": "code",
      "source": [
        "%%writefile strings_2.cpp\n",
        "\n",
        "#include<bits/stdc++.h>\n",
        "using namespace std;\n",
        "\n",
        "//concatenation\n",
        "\n",
        "int main() {\n",
        "\n",
        "string str1 = \"apna\";\n",
        "cout << str1 << endl;\n",
        "\n",
        "string str2 = \"college\";\n",
        "cout << str2 << endl;\n",
        "\n",
        "\n",
        "\n",
        "  return 0;\n",
        "}"
      ],
      "metadata": {
        "colab": {
          "base_uri": "https://localhost:8080/"
        },
        "id": "dCgTB_TnlkY-",
        "outputId": "293cb8c6-77bc-479a-be51-a856e3145abc"
      },
      "execution_count": null,
      "outputs": [
        {
          "output_type": "stream",
          "name": "stdout",
          "text": [
            "Overwriting strings_2.cpp\n"
          ]
        }
      ]
    },
    {
      "cell_type": "code",
      "source": [
        "!g++ -o strings_2 strings_2.cpp\n",
        "!./strings_2"
      ],
      "metadata": {
        "colab": {
          "base_uri": "https://localhost:8080/"
        },
        "id": "CZg5xWw0lwd8",
        "outputId": "becdbea9-6a1f-43e6-84da-f02415dfa359"
      },
      "execution_count": null,
      "outputs": [
        {
          "output_type": "stream",
          "name": "stdout",
          "text": [
            "apna\n",
            "college\n"
          ]
        }
      ]
    },
    {
      "cell_type": "code",
      "source": [
        "%%writefile strings_3.cpp\n",
        "\n",
        "#include<bits/stdc++.h>\n",
        "using namespace std;\n",
        "\n",
        "//concatenation\n",
        "\n",
        "int main() {\n",
        "\n",
        "string str1 = \"apna\";\n",
        "string str2 = \"apna\";\n",
        "\n",
        "cout << (str1 == str2) << endl;\n",
        "\n",
        "\n",
        "  return 0;\n",
        "}"
      ],
      "metadata": {
        "colab": {
          "base_uri": "https://localhost:8080/"
        },
        "id": "SAGpxfhGmCWl",
        "outputId": "4ffbb713-5575-4e16-bacb-c1912419a4e2"
      },
      "execution_count": null,
      "outputs": [
        {
          "output_type": "stream",
          "name": "stdout",
          "text": [
            "Writing strings_3.cpp\n"
          ]
        }
      ]
    },
    {
      "cell_type": "code",
      "source": [
        "!g++ -o strings_3 strings_3.cpp\n",
        "!./strings_3"
      ],
      "metadata": {
        "colab": {
          "base_uri": "https://localhost:8080/"
        },
        "id": "IwE-lhR0mbE8",
        "outputId": "ba3d5145-2036-4e2f-8bd6-aebf79d1ec43"
      },
      "execution_count": null,
      "outputs": [
        {
          "output_type": "stream",
          "name": "stdout",
          "text": [
            "1\n"
          ]
        }
      ]
    },
    {
      "cell_type": "markdown",
      "source": [
        "## Valid Palindrome"
      ],
      "metadata": {
        "id": "3_Z_7U2HzAjN"
      }
    },
    {
      "cell_type": "code",
      "source": [
        "%%writefile ValidPalindrome.cpp\n",
        "\n",
        "#include<bits/stdc++.h>\n",
        "using namespace std;\n",
        "\n",
        "bool validpalindrome(string s){\n",
        "\n",
        "  int st = 0; int en = s.size() - 1;\n",
        "\n",
        "while(st < en){\n",
        "\n",
        "  while(st < en && !isalnum(s[st])) st++;\n",
        "  while(st < en && !isalnum(s[en])) en--;\n",
        "\n",
        "  if(tolower(s[st]) != tolower(s[en])) {\n",
        "    return false;\n",
        "  }\n",
        "\n",
        "   st++; en--;\n",
        "\n",
        " }\n",
        "\n",
        "   return true;\n",
        "\n",
        "}\n",
        "\n",
        "\n",
        "int main() {\n",
        "\n",
        "string s = \"A Plan , Master of all the Classes\";\n",
        "\n",
        "cout << validpalindrome(s);\n",
        "\n",
        "\n",
        "  return 0;\n",
        "}"
      ],
      "metadata": {
        "colab": {
          "base_uri": "https://localhost:8080/"
        },
        "id": "DB37474vzEqi",
        "outputId": "d0cee71f-ffd3-4dde-8355-49678efccb0d"
      },
      "execution_count": null,
      "outputs": [
        {
          "output_type": "stream",
          "name": "stdout",
          "text": [
            "Overwriting ValidPalindrome.cpp\n"
          ]
        }
      ]
    },
    {
      "cell_type": "code",
      "source": [
        "!g++ -o ValidPalindrome ValidPalindrome.cpp\n",
        "!./ValidPalindrome"
      ],
      "metadata": {
        "colab": {
          "base_uri": "https://localhost:8080/"
        },
        "id": "VNhOYxzZ0q6D",
        "outputId": "03c2d671-7c6b-42bc-c345-3e68fdc3e81f"
      },
      "execution_count": null,
      "outputs": [
        {
          "output_type": "stream",
          "name": "stdout",
          "text": [
            "0"
          ]
        }
      ]
    },
    {
      "cell_type": "markdown",
      "source": [
        "## Remove Occurences"
      ],
      "metadata": {
        "id": "s7wpMJfu1J-W"
      }
    },
    {
      "cell_type": "code",
      "source": [
        "%%writefile removeOccurences.cpp\n",
        "\n",
        "#include<bits/stdc++.h>\n",
        "using namespace std;\n",
        "\n",
        "string removeOccurences(string s , string part){\n",
        "\n",
        "   while(s.length() > 0 && s.find(part) < s.length()){\n",
        "        s.erase(s.find(part) , part.length());\n",
        "   }\n",
        "   return s;\n",
        "\n",
        "}\n",
        "\n",
        "\n",
        "int main() {\n",
        "\n",
        "string s = \"abcParaabcbcakh\";\n",
        "string part = \"abc\";\n",
        "\n",
        "cout <<  removeOccurences(s , part);\n",
        "\n",
        "  return 0;\n",
        "}"
      ],
      "metadata": {
        "colab": {
          "base_uri": "https://localhost:8080/"
        },
        "id": "f5XhBjyg9lvo",
        "outputId": "7c487a7a-f690-4e1d-9c9e-462e43f8ee89"
      },
      "execution_count": null,
      "outputs": [
        {
          "output_type": "stream",
          "name": "stdout",
          "text": [
            "Overwriting removeOccurences.cpp\n"
          ]
        }
      ]
    },
    {
      "cell_type": "code",
      "source": [
        "!g++ -o removeOccurences removeOccurences.cpp\n",
        "!./removeOccurences"
      ],
      "metadata": {
        "colab": {
          "base_uri": "https://localhost:8080/"
        },
        "id": "ebfI8SIk_OyP",
        "outputId": "a24cd30d-b5a5-4140-936f-792491afe380"
      },
      "execution_count": null,
      "outputs": [
        {
          "output_type": "stream",
          "name": "stdout",
          "text": [
            "Parakh"
          ]
        }
      ]
    },
    {
      "cell_type": "markdown",
      "source": [
        "## Permutations in String"
      ],
      "metadata": {
        "id": "Xp4-i6gtDIl4"
      }
    },
    {
      "cell_type": "code",
      "source": [
        "%%writefile permutation.cpp\n",
        "\n",
        "#include<bits/stdc++.h>\n",
        "using namespace std;\n",
        "\n",
        "class Solution {\n",
        "public:\n",
        "\n",
        "    bool isFreqSame(int freq1[] , int freq2[]){\n",
        "\n",
        "        for(int i=0; i<26; ++i){\n",
        "\n",
        "            if(freq1[i] != freq2[i]){\n",
        "\n",
        "                return false;\n",
        "            }\n",
        "        }\n",
        "\n",
        "        return true;\n",
        "    }\n",
        "\n",
        "    bool checkInclusion(string s1, string s2) {\n",
        "        int freq[26] = {0};\n",
        "\n",
        "        for(int i=0; i<s1.length(); ++i){\n",
        "            freq[s1[i] - 'a']++;\n",
        "        }\n",
        "\n",
        "        int windSize = s1.length();\n",
        "\n",
        "        for(int i=0; i<s2.length(); ++i) {\n",
        "\n",
        "            int windIdx = 0, idx = i;\n",
        "\n",
        "            int windFreq[26] = {0};\n",
        "\n",
        "            while(windIdx < windSize && idx < s2.length()){\n",
        "                windFreq[s2[idx]-'a']++;\n",
        "                windIdx++; idx++;\n",
        "            }\n",
        "\n",
        "            if(isFreqSame(freq , windFreq)) {\n",
        "                return true;\n",
        "            }\n",
        "\n",
        "        }\n",
        "        return false;\n",
        "    }\n",
        "};\n"
      ],
      "metadata": {
        "colab": {
          "base_uri": "https://localhost:8080/"
        },
        "id": "9lRvJUFLDLMv",
        "outputId": "26e335d7-edae-4318-8acf-42ec8018b12e"
      },
      "execution_count": null,
      "outputs": [
        {
          "output_type": "stream",
          "name": "stdout",
          "text": [
            "Writing permuatation.cpp\n"
          ]
        }
      ]
    },
    {
      "cell_type": "markdown",
      "source": [
        "## Reverse words in string"
      ],
      "metadata": {
        "id": "r2QGl4v94gba"
      }
    },
    {
      "cell_type": "code",
      "source": [
        "%%writefile reverse.cpp\n",
        "\n",
        "#include<bits/stdc++.h>\n",
        "using namespace std;\n",
        "\n",
        "string reverse_words(string s) {\n",
        "\n",
        "  reverse(s.begin() , s.end());\n",
        "\n",
        "  string ans = \"\";\n",
        "\n",
        "  for(int j=0; j<s.length(); ++j){\n",
        "\n",
        "     string word = \"\";\n",
        "\n",
        "     while(j < s.length() && s[j] != ' '){\n",
        "\n",
        "         word += s[j];\n",
        "         j++;\n",
        "     }\n",
        "\n",
        "     reverse(word.begin() , word.end());\n",
        "\n",
        "     if(word.length() > 0){\n",
        "       ans += \" \" + word;\n",
        "     }\n",
        "\n",
        "  }\n",
        "\n",
        "  return ans.substr(1);\n",
        "\n",
        "}\n",
        "\n",
        "\n",
        "int main() {\n",
        "\n",
        "string str_1 = \"the sky is blue\";\n",
        "\n",
        "\n",
        "cout << reverse_words(str_1) << endl;\n",
        "\n",
        "  return 0;\n",
        "}"
      ],
      "metadata": {
        "id": "haGVxdZsIDsm",
        "colab": {
          "base_uri": "https://localhost:8080/"
        },
        "outputId": "92996746-c501-4a9c-d4d3-ea784f49b4f1"
      },
      "execution_count": null,
      "outputs": [
        {
          "output_type": "stream",
          "name": "stdout",
          "text": [
            "Overwriting reverse.cpp\n"
          ]
        }
      ]
    },
    {
      "cell_type": "code",
      "source": [
        "!g++ -o reverse reverse.cpp\n",
        "!./reverse"
      ],
      "metadata": {
        "colab": {
          "base_uri": "https://localhost:8080/"
        },
        "id": "vnFdAvqjNtdo",
        "outputId": "75f4eed1-8a14-4d8f-c909-9e42a3321d5c"
      },
      "execution_count": null,
      "outputs": [
        {
          "output_type": "stream",
          "name": "stdout",
          "text": [
            "blue is sky the\n"
          ]
        }
      ]
    },
    {
      "cell_type": "markdown",
      "source": [
        "## String Compresssion Problem"
      ],
      "metadata": {
        "id": "iVCa9cXKIESe"
      }
    },
    {
      "cell_type": "code",
      "source": [
        "%%writefile string_compression.cpp\n",
        "\n",
        "#include<bits/stdc++.h>\n",
        "using namespace std;\n",
        "\n",
        "int compression(vector<char> chars) {\n",
        "\n",
        "    int idx = 0;\n",
        "    int n = chars.size();\n",
        "\n",
        "    for(int i=0; i<n; ++i){\n",
        "\n",
        "       int count = 0;\n",
        "       char ch = chars[i];\n",
        "\n",
        "       while( i<n && chars[i] == ch){\n",
        "           count++; i++;\n",
        "       }\n",
        "\n",
        "       if(count == 1){\n",
        "          chars[idx++] = ch;\n",
        "       }\n",
        "\n",
        "       else{\n",
        "\n",
        "          chars[idx++] = ch;\n",
        "          string str = to_string(count);\n",
        "\n",
        "          for(auto dig : str){\n",
        "             chars[idx++] = dig;\n",
        "          }\n",
        "       }\n",
        "\n",
        "       i--;\n",
        "\n",
        "    }\n",
        "\n",
        "    return idx;\n",
        "\n",
        "}\n",
        "\n",
        "\n",
        "int main() {\n",
        "\n",
        "vector<char> chars = {'a' , 'a' , 'b' , 'b' , 'b' , 'c' , 'c' , 'c'};\n",
        "\n",
        "int result = compression(chars);\n",
        "\n",
        "cout << result << endl;\n",
        "\n",
        "  return 0;\n",
        "}"
      ],
      "metadata": {
        "id": "VGVZi9ghIHSi"
      },
      "execution_count": null,
      "outputs": []
    }
  ]
}
