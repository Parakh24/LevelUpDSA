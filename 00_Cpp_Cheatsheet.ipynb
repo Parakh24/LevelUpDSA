{
 "cells": [
  {
   "cell_type": "markdown",
   "id": "77d0b8fe",
   "metadata": {},
   "source": [
    "# C++ Cheatsheet"
   ]
  },
  {
   "cell_type": "markdown",
   "id": "3ebd8950",
   "metadata": {},
   "source": [
    "### Header Files "
   ]
  },
  {
   "cell_type": "code",
   "execution_count": null,
   "id": "6a53faae",
   "metadata": {},
   "outputs": [],
   "source": [
    "#include<bits/stdc++.h> "
   ]
  },
  {
   "cell_type": "markdown",
   "id": "2eb33fd2",
   "metadata": {},
   "source": [
    "### std namespace contains various library components "
   ]
  },
  {
   "cell_type": "code",
   "execution_count": null,
   "id": "8cde6fdd",
   "metadata": {},
   "outputs": [],
   "source": [
    "using namespace std;    "
   ]
  },
  {
   "cell_type": "markdown",
   "id": "f5b42f25",
   "metadata": {},
   "source": [
    "### main function is the starting point of the program execution "
   ]
  },
  {
   "cell_type": "code",
   "execution_count": null,
   "id": "c3a9d16f",
   "metadata": {},
   "outputs": [],
   "source": [
    "int main() {\n",
    "    return 0;\n",
    "}"
   ]
  },
  {
   "cell_type": "markdown",
   "id": "2cd09de3",
   "metadata": {},
   "source": [
    "### Single and Multi lined Comment"
   ]
  },
  {
   "cell_type": "code",
   "execution_count": null,
   "id": "c3ea78f7",
   "metadata": {},
   "outputs": [],
   "source": [
    "// single line commment\n",
    "\n",
    "/*\n",
    "multi line comment\n",
    "*/"
   ]
  },
  {
   "cell_type": "markdown",
   "id": "09af2c24",
   "metadata": {},
   "source": [
    "### Datatype \n",
    "\n",
    "1. Type of data that a variable can store in a program "
   ]
  },
  {
   "cell_type": "markdown",
   "id": "20f73b8c",
   "metadata": {},
   "source": [
    "#### Integer\n",
    "\n",
    "1. Takes 4 bytes of memories"
   ]
  },
  {
   "cell_type": "code",
   "execution_count": null,
   "id": "55ca39f9",
   "metadata": {},
   "outputs": [],
   "source": [
    "int variable = 123;"
   ]
  },
  {
   "cell_type": "markdown",
   "id": "5b308159",
   "metadata": {},
   "source": [
    "#### Characters\n",
    "\n",
    "1. Stores characters\n",
    "2. Takes 1 Bytes of memory"
   ]
  },
  {
   "cell_type": "code",
   "execution_count": null,
   "id": "5e11d525",
   "metadata": {},
   "outputs": [],
   "source": [
    "char variable = 'a';"
   ]
  },
  {
   "cell_type": "markdown",
   "id": "d1b2e3bb",
   "metadata": {},
   "source": [
    "#### Floating Point\n",
    "\n",
    "1. Used for storing single precision floating point numbers\n",
    "2. Takes 4 Bytes of memory"
   ]
  },
  {
   "cell_type": "code",
   "execution_count": null,
   "id": "26da48cf",
   "metadata": {},
   "outputs": [],
   "source": [
    "float variable = 2.6; "
   ]
  },
  {
   "cell_type": "markdown",
   "id": "8782e867",
   "metadata": {},
   "source": [
    "#### Double \n",
    "\n",
    "1. Used for storing double precision floating point numbers\n",
    "2. Takes 8 Bytes of memory"
   ]
  },
  {
   "cell_type": "code",
   "execution_count": null,
   "id": "8a5af0a5",
   "metadata": {},
   "outputs": [],
   "source": [
    "double variable = 3.14276894443"
   ]
  },
  {
   "cell_type": "markdown",
   "id": "19233e87",
   "metadata": {},
   "source": [
    "#### Boolean \n",
    "\n",
    "1. Used to store logical values that can either be true or false"
   ]
  },
  {
   "cell_type": "code",
   "execution_count": null,
   "id": "35146227",
   "metadata": {},
   "outputs": [],
   "source": [
    "bool variable = true;\n",
    "bool variable_2 = false; "
   ]
  },
  {
   "cell_type": "markdown",
   "id": "5d5b5274",
   "metadata": {},
   "source": [
    "#### String \n",
    "\n",
    "1. A collection of characters quoted inside a double quote\n",
    "2. used to store words or sentences"
   ]
  },
  {
   "cell_type": "code",
   "execution_count": null,
   "id": "7797fa11",
   "metadata": {},
   "outputs": [],
   "source": [
    "#include <string>\n",
    "using namespace std; \n",
    "\n",
    "string str = \"Parakh Virnawe\""
   ]
  },
  {
   "cell_type": "markdown",
   "metadata": {},
   "source": [
    "### Variables \n",
    "\n",
    "1. Container used to store data values\n",
    "2. must be declared before they can be used\n",
    "3. Name must start with an underscore or an alphabet \n",
    "4. Contains alphabets , digits and underscore \n",
    "\n",
    "#### Identifiers\n",
    "\n",
    "1. Every variables must be given unique names so each variable can be identified uniquely\n",
    "\n",
    "#### Constants\n",
    "\n",
    "1. Fixed values that remain unchanged"
   ]
  },
  {
   "cell_type": "code",
   "execution_count": null,
   "id": "7fc3247e",
   "metadata": {},
   "outputs": [],
   "source": [
    "// declaring a single variables \n",
    "\n",
    "int var_name;\n",
    "\n",
    "// declaring multiple variables \n",
    "\n",
    "float var1 , var2 , var3;"
   ]
  },
  {
   "cell_type": "markdown",
   "id": "b5c5e20d",
   "metadata": {},
   "source": [
    "### Input and Output"
   ]
  },
  {
   "cell_type": "code",
   "execution_count": null,
   "id": "8a871f45",
   "metadata": {},
   "outputs": [],
   "source": [
    "#include<iostream>\n",
    "using namespace std;                        \n",
    "int var;\n",
    "\n",
    "//cin function on the console to take input from the user \n",
    "cin >> var; "
   ]
  },
  {
   "cell_type": "code",
   "execution_count": null,
   "id": "a3a8a248",
   "metadata": {},
   "outputs": [
    {
     "name": "stdout",
     "output_type": "stream",
     "text": [
      "2"
     ]
    }
   ],
   "source": [
    "#include<iostream>\n",
    "using namespace std;\n",
    "\n",
    "int var = 2;\n",
    "\n",
    "//cout function on the console to display the output \n",
    "cout << var;"
   ]
  },
  {
   "cell_type": "markdown",
   "id": "83cbec16",
   "metadata": {},
   "source": [
    "### New Lines \n",
    "\n",
    "1. Can use \\n or endl to start from a new line"
   ]
  },
  {
   "cell_type": "code",
   "execution_count": null,
   "id": "5f528eb9",
   "metadata": {},
   "outputs": [
    {
     "name": "stdout",
     "output_type": "stream",
     "text": [
      "Parakh Virnawe!\n",
      "Hello Parakh\n"
     ]
    }
   ],
   "source": [
    "#include<iostream>\n",
    "using namespace std;\n",
    "\n",
    "cout << \"Parakh Virnawe!\" << endl << \"Hello Parakh\" << endl;"
   ]
  },
  {
   "cell_type": "markdown",
   "id": "8ec46c55",
   "metadata": {},
   "source": [
    "### Conditional Statements \n",
    "\n",
    "1. Allows us to control the flow of the program using ome conditions. It helps us to run a specific section of code based on a condition."
   ]
  },
  {
   "cell_type": "markdown",
   "id": "2ef9fbe1",
   "metadata": {},
   "source": [
    "#### If Statement \n",
    "\n",
    "1. This line of code executes if and only if the given condition is true."
   ]
  },
  {
   "cell_type": "code",
   "execution_count": null,
   "id": "2c52f795",
   "metadata": {},
   "outputs": [],
   "source": [
    "#include<iostream>\n",
    "using namespace std; \n",
    "\n",
    "int x = 3;\n",
    "\n",
    "if (x>3) { \n",
    "    cout << \"x to be displayed\";\n",
    "} \n"
   ]
  },
  {
   "cell_type": "markdown",
   "id": "2ea169da",
   "metadata": {},
   "source": [
    "#### Nested If Statement "
   ]
  },
  {
   "cell_type": "code",
   "execution_count": null,
   "id": "d8c250a3",
   "metadata": {},
   "outputs": [],
   "source": [
    "#include<iostream>\n",
    "using namespace std; \n",
    "\n",
    "int x = 3;\n",
    "int y = 4;\n",
    "\n",
    "if(x>=3) {\n",
    "    if(y==4) {\n",
    "        cout << \"Parakh Virnawe\"<< endl; \n",
    "    }\n",
    "}"
   ]
  },
  {
   "cell_type": "markdown",
   "id": "f9e5c5d0",
   "metadata": {},
   "source": [
    "#### if-else statement"
   ]
  },
  {
   "cell_type": "code",
   "execution_count": null,
   "id": "e2601e45",
   "metadata": {},
   "outputs": [],
   "source": [
    "#include<iostream>\n",
    "using namespace std; \n",
    "\n",
    "int x = 3;\n",
    "\n",
    "if (x>3) {\n",
    "    cout << \"Parakh Virnawe\" << endl;\n",
    "}\n",
    "\n",
    "else{\n",
    "    cout << \"Value Error\" << endl;\n",
    "}"
   ]
  },
  {
   "cell_type": "markdown",
   "id": "4ec9627f",
   "metadata": {},
   "source": [
    "#### else if statement"
   ]
  },
  {
   "cell_type": "code",
   "execution_count": null,
   "id": "51dc1523",
   "metadata": {},
   "outputs": [],
   "source": [
    "#include<iostream>\n",
    "using namespace std;\n",
    "\n",
    "int x = 4;\n",
    "int y = 6;\n",
    "\n",
    "if(x > 4) {\n",
    "   cout << \"Hello Parakh!\" << endl;\n",
    "}\n",
    "\n",
    "else if(x < 4) {\n",
    "    cout << \"Hello World\" << endl; \n",
    "}\n",
    "else {\n",
    "    cout << \"Error!\" << endl; \n",
    "}"
   ]
  },
  {
   "cell_type": "markdown",
   "id": "a74150f8",
   "metadata": {},
   "source": [
    "#### Ternary operator"
   ]
  },
  {
   "cell_type": "code",
   "execution_count": null,
   "id": "5fed3ab0",
   "metadata": {},
   "outputs": [
    {
     "name": "stdout",
     "output_type": "stream",
     "text": [
      "Adult\n"
     ]
    }
   ],
   "source": [
    "#include<iostream> \n",
    "#include<string> \n",
    "using namespace std; \n",
    "\n",
    "int age = 25;\n",
    "\n",
    "string result = (age>= 25) ? \"Adult\" : \"Minor\";\n",
    "cout << result << endl; "
   ]
  },
  {
   "cell_type": "markdown",
   "id": "d40e9dc0",
   "metadata": {},
   "source": [
    "#### Switch Statement \n",
    "\n",
    "1. Evaluates the expression and compares the value of the expression \n",
    "\n",
    "#### Break and default statement\n",
    "\n",
    "1. Used in switch statements "
   ]
  },
  {
   "cell_type": "code",
   "execution_count": null,
   "id": "cb7343d9",
   "metadata": {},
   "outputs": [
    {
     "name": "stdout",
     "output_type": "stream",
     "text": [
      "Enter the week day number(1-7): \n",
      "Friday"
     ]
    }
   ],
   "source": [
    "#include<iostream>\n",
    "using namespace std;\n",
    "\n",
    "int day;\n",
    "\n",
    "cout << \"Enter the week day number(1-7): \" << endl ; \n",
    "cin  >> day;\n",
    "\n",
    "switch(day) {\n",
    "    case 1: \n",
    "        cout << \"Monday\";\n",
    "        break;\n",
    "\n",
    "    case 2:\n",
    "        cout <<\"Tuesday\";\n",
    "        break;\n",
    "    \n",
    "    case 3:\n",
    "        cout << \"Wednesday\";\n",
    "        break;\n",
    "    case 4:\n",
    "        cout << \"Thursday\";\n",
    "        break;\n",
    "    case 5:\n",
    "        cout << \"Friday\";\n",
    "        break;\n",
    "    case 6:\n",
    "        cout << \"Saturday\";\n",
    "        break;\n",
    "    case 7:\n",
    "        cout << \"Sunday\";\n",
    "        break;\n",
    "\n",
    "    default:\n",
    "        cout << \"Invalid day number\";\n",
    "}"
   ]
  },
  {
   "cell_type": "markdown",
   "id": "1897c7df",
   "metadata": {},
   "source": [
    "### Loops"
   ]
  },
  {
   "cell_type": "markdown",
   "id": "15d2e9e1",
   "metadata": {},
   "source": [
    "#### for loop \n",
    "\n",
    "1. Helps to execute a block of code a fixed number of times"
   ]
  },
  {
   "cell_type": "code",
   "execution_count": null,
   "id": "16a8c866",
   "metadata": {},
   "outputs": [
    {
     "name": "stdout",
     "output_type": "stream",
     "text": [
      "0\n",
      "1\n",
      "2\n",
      "3\n",
      "4\n",
      "5\n",
      "6\n",
      "7\n",
      "8\n",
      "9\n"
     ]
    }
   ],
   "source": [
    "#include<iostream>\n",
    "using namespace std;\n",
    "\n",
    "int x = 10;\n",
    "\n",
    "// int inside for loop for local variable\n",
    "// (initialization , expression , updation)\n",
    "for(int i=0 ; i<x ; i++) {\n",
    "    cout << i << endl;\n",
    "} "
   ]
  },
  {
   "cell_type": "markdown",
   "id": "defd857e",
   "metadata": {},
   "source": [
    "#### While loop \n",
    "\n",
    "1. Repeatedly executes a block of code till the given condition is free"
   ]
  },
  {
   "cell_type": "code",
   "execution_count": null,
   "metadata": {},
   "outputs": [
    {
     "name": "stdout",
     "output_type": "stream",
     "text": [
      "Hello Parakh\n",
      "Hello Parakh\n",
      "Hello Parakh\n",
      "Hello Parakh\n"
     ]
    }
   ],
   "source": [
    "#include<iostream>\n",
    "using namespace std; \n",
    "             \n",
    "int x = 4;\n",
    "\n",
    "while(x>0) { \n",
    "    cout << \"Hello Parakh\" << endl;\n",
    "    x--;\n",
    "} "
   ]
  },
  {
   "cell_type": "markdown",
   "id": "d7c3f31a",
   "metadata": {},
   "source": [
    "#### Do-while loop "
   ]
  },
  {
   "cell_type": "code",
   "execution_count": null,
   "id": "3f666fc7",
   "metadata": {},
   "outputs": [],
   "source": [
    "#include<iostream> \n",
    "using namespace std; \n",
    "\n",
    "int x = 4;\n",
    "do { \n",
    "   cout << \"Parakh Virnawe\" << endl;\n",
    "   x--;\n",
    "} while(x>0);  "
   ]
  },
  {
   "cell_type": "markdown",
   "id": "0661499b",
   "metadata": {},
   "source": [
    "### Arrays\n",
    "\n",
    "1. Data Structure that allows to store fixed number of elements of the same data type in contiguous memory"
   ]
  },
  {
   "cell_type": "code",
   "execution_count": null,
   "id": "fb3d09e9",
   "metadata": {},
   "outputs": [
    {
     "name": "stdout",
     "output_type": "stream",
     "text": [
      "Numbers at index 0: 1\n",
      "Numbers at index 1: 2\n",
      "Numbers at index 2: 3\n",
      "Numbers at index 3: 4\n",
      "Numbers at index 4: 5\n"
     ]
    }
   ],
   "source": [
    "#include<iostream> \n",
    "using namespace std; \n",
    "\n",
    "int arr[] = {1 , 2 , 3 , 4 , 5};\n",
    "\n",
    "for(int i =0; i<5; i++) {\n",
    "\n",
    "    cout << \"Numbers at index \" << i <<\":\" << \" \"  << arr[i] << endl;\n",
    "\n",
    "} "
   ]
  },
  {
   "cell_type": "code",
   "execution_count": null,
   "id": "f0b82e13",
   "metadata": {},
   "outputs": [
    {
     "name": "stdout",
     "output_type": "stream",
     "text": [
      "Element at arr[0][0]: 1\n",
      "Element at arr[0][1]: 2\n",
      "1 2 3 4 \n",
      "5 6 53 8 \n",
      "9 10 11 44 \n"
     ]
    }
   ],
   "source": [
    "#include <iostream>   \n",
    "using namespace std;\n",
    "\n",
    "// Declaration and initialization\n",
    "int arr[3][4] = {\n",
    "    {1, 2, 3, 4},\n",
    "    {5, 6, 7, 8},\n",
    "    {9, 10, 11, 12}\n",
    "};\n",
    "\n",
    "                \n",
    "\n",
    "// Change some values\n",
    "arr[2][3] = 44;\n",
    "arr[1][2] = 53;\n",
    "\n",
    "\n",
    "// Accessing elements\n",
    "cout << \"Element at arr[0][0]: \" << arr[0][0] << endl;\n",
    "cout << \"Element at arr[0][1]: \" << arr[0][1] << endl;\n",
    "\n",
    "\n",
    "// Loop through array\n",
    "for (int i = 0; i < 3; i++) {\n",
    "    for (int j = 0; j < 4; j++) {\n",
    "        cout << arr[i][j] << \" \";\n",
    "    }\n",
    "    cout << endl; \n",
    "} \n",
    "\n"
   ]
  },
  {
   "cell_type": "markdown",
   "id": "ea5d1ab0",
   "metadata": {},
   "source": [
    "#### Vectors \n",
    "\n",
    "1. These are a dynamic like data structures the grow when an element is inserted or shrink when an element is deleted.\n",
    "2. Unlike array it can be resized automatically.\n",
    "3. Should use #include<vector> header file to used vector in the program.\n",
    "\n",
    "\n",
    "Commonly used Vector Functions: \n",
    "\n",
    "- push_back() \n",
    "- pop_back() \n",
    "- clear() \n",
    "- empty() \n",
    "- at(i)\n",
    "- front() \n",
    "- back() \n",
    "- erase() "
   ]
  },
  {
   "cell_type": "code",
   "execution_count": null,
   "id": "c2f6d016",
   "metadata": {},
   "outputs": [
    {
     "name": "stdout",
     "output_type": "stream",
     "text": [
      "Number at 0th position: 10\n",
      "Number at 1st position: 20\n",
      "Front element: 10\n",
      "Last element: 30\n",
      "Vector is non-empty\n",
      "Vector is empty after clearing\n"
     ]
    }
   ],
   "source": [
    "#include <iostream>\n",
    "#include <vector>\n",
    "using namespace std;\n",
    "\n",
    "// Define the vector\n",
    "vector<int> numbers;\n",
    "\n",
    "// Add elements\n",
    "numbers.push_back(10);\n",
    "numbers.push_back(20);\n",
    "numbers.push_back(30);\n",
    "\n",
    "// Access elements\n",
    "cout << \"Number at 0th position: \" << numbers.at(0) << endl;\n",
    "cout << \"Number at 1st position: \" << numbers.at(1) << endl;\n",
    "\n",
    "// Front and back\n",
    "cout << \"Front element: \" << numbers.front() << endl;\n",
    "cout << \"Last element: \" << numbers.back() << endl;\n",
    "\n",
    "// Remove last element\n",
    "numbers.pop_back();\n",
    "\n",
    "// Remove second element (index 1)\n",
    "numbers.erase(numbers.begin() + 1);\n",
    "\n",
    "// Check if empty\n",
    "if (numbers.empty()) {\n",
    "    cout << \"Vector is empty\" << endl;\n",
    "} else {\n",
    "    cout << \"Vector is non-empty\" << endl;\n",
    "}\n",
    "\n",
    "// Clear all\n",
    "numbers.clear();\n",
    "\n",
    "// Final check\n",
    "if (numbers.empty()) {\n",
    "    cout << \"Vector is empty after clearing\" << endl;\n",
    "} else {\n",
    "    cout << \"Vector is non-empty after clearing\" << endl;\n",
    "}\n"
   ]
  },
  {
   "cell_type": "code",
   "execution_count": null,
   "id": "3eb486c7",
   "metadata": {},
   "outputs": [
    {
     "name": "stdout",
     "output_type": "stream",
     "text": [
      "x_1: 20\n",
      "alpha: 20\n",
      "changed x_1: 25\n",
      "aplha value: 25\n"
     ]
    }
   ],
   "source": [
    "#include<iostream>\n",
    "using namespace std; \n",
    "\n",
    "int x_1 = 20;\n",
    "int &alpha = x_1;\n",
    "\n",
    "cout << \"x_1: \" << x_1 << endl;\n",
    "cout << \"alpha: \" << alpha << endl; \n",
    "\n",
    "alpha = 25;\n",
    "\n",
    "cout << \"changed x_1: \" << x_1 << endl;\n",
    "cout << \"aplha value: \" << alpha << endl; "
   ]
  },
  {
   "cell_type": "markdown",
   "id": "80d9392f",
   "metadata": {},
   "source": [
    "#### Pointers"
   ]
  },
  {
   "cell_type": "code",
   "execution_count": null,
   "id": "2c062b8f",
   "metadata": {},
   "outputs": [
    {
     "name": "stdout",
     "output_type": "stream",
     "text": [
      "Value of x: 40\n",
      "Value of &x: 0x7dee98c58040\n",
      "Value of pointer: 0x7dee98c58040\n",
      "Value of *pointer: 40\n"
     ]
    },
    {
     "data": {
      "text/plain": [
       "@0x7dee91dfcca0"
      ]
     },
     "execution_count": 2,
     "metadata": {},
     "output_type": "execute_result"
    }
   ],
   "source": [
    "#include<iostream>\n",
    "using namespace std;\n",
    "\n",
    "int x = 40;\n",
    "\n",
    "int* pointer = &x;\n",
    "\n",
    "cout << \"Value of x: \" << x << endl; //stores the value of x\n",
    "cout << \"Value of &x: \" << &x << endl; // stores the address of x\n",
    "cout << \"Value of pointer: \" << pointer << endl;  //stores the address of x\n",
    "cout << \"Value of *pointer: \" << *pointer << endl; // stores the value of x"
   ]
  },
  {
   "cell_type": "markdown",
   "id": "577ebc66",
   "metadata": {},
   "source": [
    "### Functions \n",
    "\n",
    "1. It is the reusable block of a set of statements that performs a specfic task. \n",
    "2. Functions can be used to organize the logic of the program."
   ]
  },
  {
   "cell_type": "code",
   "execution_count": null,
   "id": "58141589",
   "metadata": {},
   "outputs": [],
   "source": [
    "/*\n",
    "syntax for function definition: \n",
    "\n",
    "return_type function_name(parameters) {\n",
    "    // function body\n",
    "    // code to be executed\n",
    "    // return statement ( if applicable) \n",
    "\n",
    "}\n",
    "\n",
    "*/\n",
    "\n",
    "\n",
    "\n",
    "\n",
    "/*\n",
    "\n",
    "syntax for function declaration\n",
    "\n",
    "return_type function_name(parameters);\n",
    "\n",
    "*/ "
   ]
  },
  {
   "cell_type": "code",
   "execution_count": null,
   "id": "85ae0b54",
   "metadata": {},
   "outputs": [
    {
     "name": "stderr",
     "output_type": "stream",
     "text": [
      "input_line_7:7:1: error: use of undeclared identifier 'cout'\n",
      "cout << result << endl;\n",
      "^\n"
     ]
    },
    {
     "name": "stderr",
     "output_type": "stream",
     "text": [
      "input_line_7:7:19: error: use of undeclared identifier 'endl'; did you mean 'std::endl'?\n",
      "cout << result << endl;\n",
      "                  ^~~~\n",
      "                  std::endl\n",
      "/home/parakhvirnawe/miniconda3/envs/cpp_env/bin/../lib/gcc/../../x86_64-conda-linux-gnu/include/c++/10.4.0/ostream:681:5: note: 'std::endl' declared here\n",
      "    endl(basic_ostream<_CharT, _Traits>& __os)\n",
      "    ^\n"
     ]
    },
    {
     "ename": "Interpreter Error",
     "evalue": "",
     "output_type": "error",
     "traceback": [
      "Interpreter Error: "
     ]
    }
   ],
   "source": [
    "// Function Definition \n",
    "int sum(int a , int b) {\n",
    "    return a+b;\n",
    "}\n",
    "\n",
    "int result = sum(3,4);\n",
    "cout << result << endl;"
   ]
  },
  {
   "cell_type": "code",
   "execution_count": null,
   "id": "0e649275",
   "metadata": {},
   "outputs": [],
   "source": [
    "int sum(int a , int b) {\n",
    "    return a+b;\n",
    "}"
   ]
  },
  {
   "cell_type": "markdown",
   "id": "cbf44ccd",
   "metadata": {},
   "source": [
    "### String Functions "
   ]
  },
  {
   "cell_type": "markdown",
   "id": "c52758d1",
   "metadata": {},
   "source": [
    "#### length() function \n",
    "\n",
    "1. Returns the length of the string "
   ]
  },
  {
   "cell_type": "code",
   "execution_count": null,
   "id": "fe71e35e",
   "metadata": {},
   "outputs": [
    {
     "name": "stdout",
     "output_type": "stream",
     "text": [
      "String length: 15"
     ]
    }
   ],
   "source": [
    "string str = \"Geeks for Geeks\"; \n",
    "cout << \"String length: \" << str.length(); "
   ]
  },
  {
   "cell_type": "markdown",
   "id": "ae68848a",
   "metadata": {},
   "source": [
    "#### substr() Function \n",
    "\n",
    "1. It is used to extract a substring from a given string."
   ]
  },
  {
   "cell_type": "code",
   "execution_count": null,
   "id": "a1445fcf",
   "metadata": {},
   "outputs": [
    {
     "name": "stdout",
     "output_type": "stream",
     "text": [
      "Substring: eeksf\n"
     ]
    }
   ],
   "source": [
    "#include<iostream> \n",
    "using namespace std; \n",
    "\n",
    "\n",
    "string str = \"Geeksforgeeks\"; \n",
    "\n",
    "//extracts a substring starting from \n",
    "// index 1 with a length of 5 \n",
    "string sub = str.substr(1 , 5); \n",
    "\n",
    "cout << \"Substring: \" << sub << endl; "
   ]
  },
  {
   "cell_type": "markdown",
   "id": "e37c7ee6",
   "metadata": {},
   "source": [
    "#### append() function "
   ]
  },
  {
   "cell_type": "code",
   "execution_count": null,
   "id": "9be0781d",
   "metadata": {},
   "outputs": [
    {
     "name": "stdout",
     "output_type": "stream",
     "text": [
      "Appended string: Geeksforgeeks\n"
     ]
    }
   ],
   "source": [
    "#include<bits/stdc++.h> \n",
    "using namespace std; \n",
    "\n",
    "\n",
    "string str = \"Geeksfor\"; \n",
    "\n",
    "str.append(\"geeks\");\n",
    "\n",
    "cout << \"Appended string: \" << str << endl; \n"
   ]
  },
  {
   "cell_type": "markdown",
   "id": "8e2d4bba",
   "metadata": {},
   "source": [
    "#### compare function() \n",
    "\n",
    "1. It compares two strings lexicographically"
   ]
  },
  {
   "cell_type": "code",
   "execution_count": null,
   "id": "ff042c8f",
   "metadata": {},
   "outputs": [
    {
     "name": "stdout",
     "output_type": "stream",
     "text": [
      "3\n"
     ]
    }
   ],
   "source": [
    "#include<iostream>\n",
    "#include<string> \n",
    "using namespace std; \n",
    "\n",
    "\n",
    "string str_1 = \"geeksfor\"; \n",
    "\n",
    "string str_2 = \"geeks\";\n",
    "\n",
    "int str = str_1.compare(str_2);  \n",
    "\n",
    "cout << str << endl;"
   ]
  },
  {
   "cell_type": "markdown",
   "id": "de044f03",
   "metadata": {},
   "source": [
    "#### empty() function\n",
    "\n",
    "1. Checks whether the string is empty or not "
   ]
  },
  {
   "cell_type": "code",
   "execution_count": null,
   "id": "6825d836",
   "metadata": {},
   "outputs": [
    {
     "name": "stdout",
     "output_type": "stream",
     "text": [
      "str1 is not empty\n",
      "str2 is empty\n"
     ]
    }
   ],
   "source": [
    "#include <bits/stdc++.h>\n",
    "using namespace std;\n",
    "\n",
    "\n",
    "    string str1 = \"GeeksforGeeks\";\n",
    "    string str2 = \"\";\n",
    "\n",
    "    if (str1.empty())\n",
    "        cout << \"str1 is empty\" << endl;\n",
    "    else \n",
    "        cout << \"str1 is not empty\" << endl;\n",
    "\n",
    "    if (str2.empty()) \n",
    "        cout << \"str2 is empty\" << endl;\n",
    "    else \n",
    "        cout << \"str2 is not empty\" << endl;\n",
    "    "
   ]
  },
  {
   "cell_type": "markdown",
   "id": "ed72090a",
   "metadata": {},
   "source": [
    "### Math Functions\n",
    "\n",
    "1. min(x,y) \n",
    "2. max(x,y) \n",
    "3. sqrt(x) \n",
    "4. ceil(x) \n",
    "5. floor(x) \n",
    "6. power(x,n) "
   ]
  },
  {
   "cell_type": "code",
   "execution_count": null,
   "id": "1fff1e21",
   "metadata": {},
   "outputs": [
    {
     "name": "stdout",
     "output_type": "stream",
     "text": [
      "3\n"
     ]
    }
   ],
   "source": [
    "#include<iostream>\n",
    "using namespace std;\n",
    "\n",
    "cout << min(3 , 41) << endl;"
   ]
  },
  {
   "cell_type": "code",
   "execution_count": null,
   "id": "cc53ce0a",
   "metadata": {},
   "outputs": [
    {
     "name": "stdout",
     "output_type": "stream",
     "text": [
      "54\n"
     ]
    }
   ],
   "source": [
    "cout << max(42 , 54) << endl; "
   ]
  },
  {
   "cell_type": "code",
   "execution_count": null,
   "id": "09fc2190",
   "metadata": {},
   "outputs": [
    {
     "name": "stdout",
     "output_type": "stream",
     "text": [
      "6\n"
     ]
    }
   ],
   "source": [
    "#include<iostream>\n",
    "#include<cmath>\n",
    "using namespace std;\n",
    "\n",
    "double square_root = sqrt(36);\n",
    "cout << square_root << endl; \n"
   ]
  },
  {
   "cell_type": "code",
   "execution_count": null,
   "id": "fdd19b33",
   "metadata": {},
   "outputs": [
    {
     "name": "stdout",
     "output_type": "stream",
     "text": [
      "4\n"
     ]
    }
   ],
   "source": [
    "#include<iostream>\n",
    "#include<cmath> \n",
    "\n",
    "using namespace std;\n",
    "\n",
    "double ceil_1 = ceil(3.123454); \n",
    "\n",
    "cout << ceil_1 << endl;"
   ]
  },
  {
   "cell_type": "code",
   "execution_count": null,
   "id": "53f97ced",
   "metadata": {},
   "outputs": [
    {
     "name": "stdout",
     "output_type": "stream",
     "text": [
      "3\n"
     ]
    }
   ],
   "source": [
    "#include<iostream>\n",
    "#include<cmath> \n",
    "\n",
    "using namespace std; \n",
    "\n",
    "double floor_1 = floor(3.123454); \n",
    "\n",
    "cout << floor_1 << endl;  "
   ]
  },
  {
   "cell_type": "code",
   "execution_count": null,
   "id": "50f51ae7",
   "metadata": {},
   "outputs": [
    {
     "name": "stdout",
     "output_type": "stream",
     "text": [
      "8\n"
     ]
    }
   ],
   "source": [
    "#include<iostream>\n",
    "#include<cmath>      \n",
    "                                     \n",
    "using namespace std;\n",
    "\n",
    "double power_1 = pow(2,3); \n",
    "\n",
    "cout << power_1 << endl;   "
   ]
  }
 ],
 "metadata": {
  "kernelspec": {
   "display_name": ".conda",
   "language": "python",
   "name": "python3"
  },
  "language_info": {
   "codemirror_mode": "text/x-c++src",
   "file_extension": ".cpp",
   "mimetype": "text/x-c++src",
   "name": "python",
   "version": "3.13.5"
  }
 },
 "nbformat": 4,
 "nbformat_minor": 5
}
