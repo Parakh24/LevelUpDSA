{
  "nbformat": 4,
  "nbformat_minor": 0,
  "metadata": {
    "colab": {
      "provenance": [],
      "toc_visible": true,
      "authorship_tag": "ABX9TyMNcVzCk5NkJycM7QHlQh4G",
      "include_colab_link": true
    },
    "kernelspec": {
      "name": "python3",
      "display_name": "Python 3"
    },
    "language_info": {
      "name": "python"
    }
  },
  "cells": [
    {
      "cell_type": "markdown",
      "metadata": {
        "id": "view-in-github",
        "colab_type": "text"
      },
      "source": [
        "<a href=\"https://colab.research.google.com/github/Parakh24/LevelUpDSA/blob/master/Linkedlist.ipynb\" target=\"_parent\"><img src=\"https://colab.research.google.com/assets/colab-badge.svg\" alt=\"Open In Colab\"/></a>"
      ]
    },
    {
      "cell_type": "markdown",
      "source": [
        "# Linked List"
      ],
      "metadata": {
        "id": "bnHcROxDy6bs"
      }
    },
    {
      "cell_type": "markdown",
      "source": [
        "## Basics of Classes and Objects"
      ],
      "metadata": {
        "id": "FJ4C2lQrzCzH"
      }
    },
    {
      "cell_type": "code",
      "execution_count": null,
      "metadata": {
        "id": "l_6Ki0Ml8Dl6",
        "colab": {
          "base_uri": "https://localhost:8080/"
        },
        "outputId": "fa5f03b0-b6a0-4ba0-af20-1bd36dcd75b6"
      },
      "outputs": [
        {
          "output_type": "stream",
          "name": "stdout",
          "text": [
            "Overwriting class.cpp\n"
          ]
        }
      ],
      "source": [
        "%%writefile class.cpp\n",
        "\n",
        "#include<bits/stdc++.h>\n",
        "using namespace std;\n",
        "\n",
        "//class is a keyword, name of the class is an object\n",
        "class BankAccount{\n",
        "\n",
        "//public access specifier\n",
        "  public:\n",
        "  //member variables are referred to as attributes\n",
        "  string name;\n",
        "  int balance;\n",
        "\n",
        "\n",
        "// member functions are referred to as methods\n",
        "  void withdraw(int amount){\n",
        "     balance -= amount;\n",
        "  }\n",
        "\n",
        "  void print(){\n",
        "    cout << name  << \"  \" << \"has\" <<\"  \" << balance << \"  \" << \"dollars\" << endl;\n",
        "  }\n",
        "\n",
        "};\n",
        "\n",
        "\n",
        "int main() {\n",
        "\n",
        "BankAccount account1;\n",
        "account1.name = \"Nageeb\";\n",
        "account1.balance = 3000;\n",
        "\n",
        "//cout << account1.name << \"  \" << account1.balance << endl;\n",
        "account1.print();\n",
        "\n",
        "account1.withdraw(100);\n",
        "account1.print();\n",
        "//cout << account1.name << \"  \" << account1.balance << endl;\n",
        "\n",
        "return 0;\n",
        "\n",
        "}"
      ]
    },
    {
      "cell_type": "code",
      "source": [
        "!g++ -o class class.cpp\n",
        "!./class"
      ],
      "metadata": {
        "colab": {
          "base_uri": "https://localhost:8080/"
        },
        "id": "pSbGpLG6AfFV",
        "outputId": "0707c7b4-ebcc-4d28-df88-ea3ba4e19189"
      },
      "execution_count": null,
      "outputs": [
        {
          "output_type": "stream",
          "name": "stdout",
          "text": [
            "Name: Kevin\n",
            "Id: 567890321\n",
            "Balance: 100000"
          ]
        }
      ]
    },
    {
      "cell_type": "code",
      "source": [
        "%%writefile class2.cpp\n",
        "\n",
        "#include<bits/stdc++.h>\n",
        "using namespace std;\n",
        "\n",
        "class Employee {\n",
        "\n",
        "  public:\n",
        "   string name;\n",
        "\n",
        "  void print() {\n",
        "     cout << name << endl;\n",
        "  }\n",
        "\n",
        "  // setter functions\n",
        "  void set_salary(int potential_salary) {\n",
        "\n",
        "    if(potential_salary < 0){\n",
        "      salary = 0;\n",
        "    }\n",
        "    else{\n",
        "      salary = potential_salary;\n",
        "    }\n",
        "  }\n",
        "\n",
        "  // getter functions\n",
        "  double get_salary(){\n",
        "     return salary;\n",
        "  }\n",
        "\n",
        "  void print_bonus() {\n",
        "     cout << name << \" bonus: \" << calculate_bonus() << endl;\n",
        "  }\n",
        "\n",
        "  private:\n",
        "   double salary;\n",
        "\n",
        "   double calculate_bonus(){\n",
        "     return salary*0.15;\n",
        "   }\n",
        "\n",
        "};\n",
        "\n",
        "\n",
        "int main() {\n",
        "\n",
        "Employee employee1;\n",
        "employee1.name = \"Kevin\";\n",
        "\n",
        "employee1.print();\n",
        "\n",
        "employee1.set_salary(1000);\n",
        "\n",
        "cout << employee1.get_salary() << endl;\n",
        "\n",
        "employee1.print_bonus();\n",
        "\n",
        "  return 0;\n",
        "}"
      ],
      "metadata": {
        "colab": {
          "base_uri": "https://localhost:8080/"
        },
        "id": "AlRgMtL_A2er",
        "outputId": "9e10ce4a-2341-4266-d59b-9865070844a8"
      },
      "execution_count": null,
      "outputs": [
        {
          "output_type": "stream",
          "name": "stdout",
          "text": [
            "Overwriting class2.cpp\n"
          ]
        }
      ]
    },
    {
      "cell_type": "code",
      "source": [
        "!g++ -o class2 class2.cpp\n",
        "!./class2"
      ],
      "metadata": {
        "colab": {
          "base_uri": "https://localhost:8080/"
        },
        "id": "H0ev1xs-HGpd",
        "outputId": "c98ead91-5bf5-401b-e70b-025f19d0dd79"
      },
      "execution_count": null,
      "outputs": [
        {
          "output_type": "stream",
          "name": "stdout",
          "text": [
            "Kevin\n",
            "1000\n",
            "Kevin bonus: 150\n"
          ]
        }
      ]
    },
    {
      "cell_type": "code",
      "source": [
        "%%writefile class_3.cpp\n",
        "\n",
        "//Constructors\n",
        "\n",
        "#include<bits/stdc++.h>\n",
        "using namespace std;\n",
        "\n",
        "class Cat {\n",
        "\n",
        "  private:\n",
        "    string name;\n",
        "    string color;\n",
        "    string favorite_toy;\n",
        "\n",
        "  public:\n",
        "\n",
        "    void print_cat()\n",
        "    {\n",
        "      cout << \"Name: \" << name << endl;\n",
        "      cout << \"Color: \" << color << endl;\n",
        "      cout << \"Favorite Toy: \" << favorite_toy << endl;\n",
        "    }\n",
        "\n",
        "//Default Constructor\n",
        "    Cat()\n",
        "    {\n",
        "      name = \"Unknown\";\n",
        "      color = \"Unknown\";\n",
        "      favorite_toy = \"Unknown\";\n",
        "    }\n",
        "\n",
        "//Parameterized Constructor\n",
        "    Cat(string n)\n",
        "    {\n",
        "      name = n;\n",
        "      color = \"Unknown\";\n",
        "      favorite_toy = \"Unknown\";\n",
        "    }\n",
        "\n",
        "    Cat(string n , string c , string t)\n",
        "    {\n",
        "\n",
        "       name = n;\n",
        "       color = c;\n",
        "       favorite_toy = t;\n",
        "\n",
        "    }\n",
        "\n",
        "};\n",
        "\n",
        "int main() {\n",
        "\n",
        "Cat cat1;\n",
        "\n",
        "cout << \"Cat1...\" << endl;\n",
        "cat1.print_cat();\n",
        "cout << endl;\n",
        "\n",
        "Cat cat2(\"Spot\");\n",
        "\n",
        "cat2.print_cat();\n",
        "cout << endl;\n",
        "\n",
        "Cat cat3(\"Garfield\" , \"Orange\" , \"Ball of Yarn\");\n",
        "\n",
        "cat3.print_cat();\n",
        "\n",
        "  return 0;\n",
        "}"
      ],
      "metadata": {
        "colab": {
          "base_uri": "https://localhost:8080/"
        },
        "id": "9i7OfFBVQ0II",
        "outputId": "a65f6502-94d7-4203-ed02-99c70dc07a93"
      },
      "execution_count": null,
      "outputs": [
        {
          "output_type": "stream",
          "name": "stdout",
          "text": [
            "Overwriting class_3.cpp\n"
          ]
        }
      ]
    },
    {
      "cell_type": "code",
      "source": [
        "!g++ -o class_3 class_3.cpp\n",
        "!./class_3"
      ],
      "metadata": {
        "colab": {
          "base_uri": "https://localhost:8080/"
        },
        "id": "SxQFObZQzBep",
        "outputId": "b3b8dad6-d8df-4967-ede9-907249c1186e"
      },
      "execution_count": null,
      "outputs": [
        {
          "output_type": "stream",
          "name": "stdout",
          "text": [
            "Cat1...\n",
            "Name: Unknown\n",
            "Color: Unknown\n",
            "Favorite Toy: Unknown\n",
            "\n",
            "Name: Spot\n",
            "Color: Unknown\n",
            "Favorite Toy: Unknown\n",
            "\n",
            "Name: Garfield\n",
            "Color: Orange\n",
            "Favorite Toy: Ball of Yarn\n"
          ]
        }
      ]
    },
    {
      "cell_type": "markdown",
      "source": [
        "## Basics of LinkedList"
      ],
      "metadata": {
        "id": "5HoXHtQ40b_i"
      }
    },
    {
      "cell_type": "code",
      "source": [
        "%%writefile ll1.cpp\n",
        "\n",
        "#include<bits/stdc++.h>\n",
        "using namespace std;\n",
        "\n",
        "class Node{  // class name object(Node)\n",
        "\n",
        " public:\n",
        "     int data;   // member variables named attributes\n",
        "     Node* next;\n",
        "\n",
        "// Parameterized Constructor\n",
        "     Node(int val){\n",
        "        data = val;\n",
        "        next = NULL;\n",
        "     }\n",
        "\n",
        "};\n",
        "class List {\n",
        "    Node* head;  // head & tail pointers\n",
        "    Node* tail;\n",
        "\n",
        "public:\n",
        "    List() {\n",
        "       head = tail = NULL;\n",
        "    }\n",
        "\n",
        "    void push_front(int val) {\n",
        "\n",
        "       Node* newNode = new Node(val);   // new returns the pointer to the memory address of the object Node  , newNode stores the address of the object\n",
        "\n",
        "       if(head==NULL){\n",
        "         head = tail = newNode;         // address stored in the pointer newNode is stored in head/tail pointers\n",
        "         return;\n",
        "\n",
        "       }else{\n",
        "         newNode->next = head;          //newNode = way of accessing the attributes of the object Node\n",
        "         head = newNode;\n",
        "       }\n",
        "\n",
        "  }\n",
        "\n",
        "    void push_back(int val){\n",
        "\n",
        "    Node* newNode = new Node(val);\n",
        "\n",
        "    if(head == NULL) {\n",
        "       head = tail = newNode;\n",
        "\n",
        "    } else {\n",
        "      tail->next = newNode;\n",
        "      tail = newNode;\n",
        "    }\n",
        "\n",
        "   }\n",
        "\n",
        "   void pop_back() {\n",
        "\n",
        "       if(head == NULL){\n",
        "          cout << \"LL is empty\\n\";\n",
        "       }\n",
        "\n",
        "       else{\n",
        "\n",
        "       Node* temp = head;\n",
        "\n",
        "       while(temp->next != tail){\n",
        "           temp = temp->next;\n",
        "       }\n",
        "\n",
        "       temp->next = NULL;\n",
        "       delete tail;\n",
        "       tail = temp;\n",
        "\n",
        "       }\n",
        "\n",
        "}\n",
        "\n",
        "   void pop_front() {\n",
        "\n",
        "    if(head == NULL){\n",
        "      cout << \"LL is empty\\n\";\n",
        "      return;\n",
        "    }\n",
        "\n",
        "    Node* temp = head;\n",
        "    head = head->next;\n",
        "    temp->next = NULL;\n",
        "\n",
        "    delete temp;\n",
        "\n",
        "   }\n",
        "\n",
        "   void insert(int val, int pos){\n",
        "\n",
        "      if(pos < 0){\n",
        "        cout << \"invalid pos\\n\";\n",
        "        return;\n",
        "      }\n",
        "\n",
        "      if(pos == 0){\n",
        "        push_front(val);\n",
        "        return;\n",
        "      }\n",
        "\n",
        "      Node* temp = head;\n",
        "      for(int i=0; i<pos-1; ++i){\n",
        "         if(temp == NULL){\n",
        "           cout << \"invalid node\";\n",
        "           return;\n",
        "         }\n",
        "         temp = temp->next;\n",
        "      }\n",
        "\n",
        "      Node* newNode = new Node(val);\n",
        "      newNode->next = temp->next;\n",
        "      temp->next = newNode;\n",
        "\n",
        "}\n",
        "\n",
        "\n",
        "\n",
        "    void printLL(){\n",
        "      Node* temp = head;\n",
        "\n",
        "      while(temp != NULL){\n",
        "         cout << temp->data << \"->\";\n",
        "         temp = temp->next;\n",
        "      }\n",
        "      cout << \"NULL\" << endl;\n",
        "      cout << endl;\n",
        "\n",
        "    }\n",
        "\n",
        "};\n",
        "\n",
        "int main() {\n",
        "\n",
        "List ll;\n",
        "\n",
        "ll.push_front(10);\n",
        "ll.push_front(20);\n",
        "ll.push_front(30);\n",
        "\n",
        "ll.push_back(40);\n",
        "ll.push_back(50);\n",
        "ll.push_back(60);\n",
        "\n",
        "ll.pop_front();\n",
        "ll.pop_front();\n",
        "\n",
        "ll.pop_back();\n",
        "ll.pop_back();\n",
        "\n",
        "\n",
        "ll.insert(4,1);\n",
        "ll.insert(4,0);\n",
        "\n",
        "\n",
        "ll.printLL();\n",
        "\n",
        "\n",
        "  return 0;\n",
        "}"
      ],
      "metadata": {
        "id": "k0Vrus9y0fIB",
        "colab": {
          "base_uri": "https://localhost:8080/"
        },
        "outputId": "b4a4d57f-1c5e-44e5-ed72-a0f333a63f56"
      },
      "execution_count": null,
      "outputs": [
        {
          "output_type": "stream",
          "name": "stdout",
          "text": [
            "Overwriting ll1.cpp\n"
          ]
        }
      ]
    },
    {
      "cell_type": "code",
      "source": [
        "!g++ -o ll1 ll1.cpp\n",
        "!./ll1"
      ],
      "metadata": {
        "colab": {
          "base_uri": "https://localhost:8080/"
        },
        "id": "SGk0avH0XulO",
        "outputId": "0f64586b-42a3-4ad8-99b3-b60a52994d53"
      },
      "execution_count": null,
      "outputs": [
        {
          "output_type": "stream",
          "name": "stdout",
          "text": [
            "30->20->10->40->50->60->NULL\n",
            "\n"
          ]
        }
      ]
    },
    {
      "cell_type": "markdown",
      "source": [
        "## Reverse a Linkedlist"
      ],
      "metadata": {
        "id": "DXMhEqwo4Id1"
      }
    },
    {
      "cell_type": "code",
      "source": [
        "%%writefile reverse.cpp\n",
        "\n",
        "/**\n",
        " * Definition for singly-linked list.\n",
        " * struct ListNode {\n",
        " *     int val;\n",
        " *     ListNode *next;\n",
        " *     ListNode() : val(0), next(nullptr) {}\n",
        " *     ListNode(int x) : val(x), next(nullptr) {}\n",
        " *     ListNode(int x, ListNode *next) : val(x), next(next) {}\n",
        " * };\n",
        " */\n",
        "class Solution {\n",
        "public:\n",
        "    ListNode* reverseList(ListNode* head) {\n",
        "        ListNode* prev = NULL;\n",
        "        ListNode* curr = head;\n",
        "        ListNode* next = NULL;\n",
        "\n",
        "        while(curr != NULL){\n",
        "\n",
        "            next = curr->next;\n",
        "            curr->next = prev;\n",
        "            prev = curr;\n",
        "            curr = next;\n",
        "        }\n",
        "\n",
        "        return prev;\n",
        "    }\n",
        "};"
      ],
      "metadata": {
        "id": "jNvL5UlV4ID3"
      },
      "execution_count": null,
      "outputs": []
    },
    {
      "cell_type": "markdown",
      "source": [
        "## Middle of a linkedlist"
      ],
      "metadata": {
        "id": "BqX8GM90-wL8"
      }
    },
    {
      "cell_type": "code",
      "source": [
        "%%writefile reverse.cpp\n",
        "\n",
        "/**\n",
        " * Definition for singly-linked list.\n",
        " * struct ListNode {\n",
        " *     int val;\n",
        " *     ListNode *next;\n",
        " *     ListNode() : val(0), next(nullptr) {}\n",
        " *     ListNode(int x) : val(x), next(nullptr) {}\n",
        " *     ListNode(int x, ListNode *next) : val(x), next(next) {}\n",
        " * };\n",
        " */\n",
        "class Solution {\n",
        "public:\n",
        "    ListNode* middleNode(ListNode* head) {\n",
        "       ListNode* slow = head;\n",
        "       ListNode* fast = head;\n",
        "\n",
        "       while(fast != NULL && fast->next != NULL){\n",
        "           slow = slow->next;\n",
        "           fast = fast->next->next;\n",
        "       }\n",
        "       return slow;\n",
        "    }\n",
        "};\n"
      ],
      "metadata": {
        "id": "GJDu_H78-yHq"
      },
      "execution_count": null,
      "outputs": []
    },
    {
      "cell_type": "markdown",
      "source": [
        "## Detect Cycle in a linked list"
      ],
      "metadata": {
        "id": "6TVQwUCEHfHn"
      }
    },
    {
      "cell_type": "code",
      "source": [
        "%%writefile detectfile.cpp\n",
        "\n",
        "\n",
        "/**\n",
        " * Definition for singly-linked list.\n",
        " * struct ListNode {\n",
        " *     int val;\n",
        " *     ListNode *next;\n",
        " *     ListNode(int x) : val(x), next(NULL) {}\n",
        " * };\n",
        " */\n",
        "\n",
        "\n",
        "class Solution {\n",
        "public:\n",
        "    bool hasCycle(ListNode *head) {\n",
        "        ListNode* slow = head;\n",
        "        ListNode* fast = head;\n",
        "\n",
        "        while(fast!=NULL && fast->next != NULL)\n",
        "        {\n",
        "          slow = slow->next;\n",
        "          fast = fast->next->next;\n",
        "\n",
        "          if(slow == fast){\n",
        "            return true;\n",
        "          }\n",
        "        }\n",
        "\n",
        "        return false;\n",
        "\n",
        "    }\n",
        "};"
      ],
      "metadata": {
        "id": "EkwbTROhHiG6"
      },
      "execution_count": null,
      "outputs": []
    },
    {
      "cell_type": "markdown",
      "source": [
        "## Remove Cycle in a LinkedList"
      ],
      "metadata": {
        "id": "lE_LefOLLFOU"
      }
    },
    {
      "cell_type": "code",
      "source": [
        "%%writefile removeCycle.cpp\n",
        "\n",
        "/**\n",
        " * Definition for singly-linked list.\n",
        " * struct ListNode {\n",
        " *     int val;\n",
        " *     ListNode *next;\n",
        " *     ListNode(int x) : val(x), next(NULL) {}\n",
        " * };\n",
        " */\n",
        "class Solution {\n",
        "public:\n",
        "    ListNode *detectCycle(ListNode *head) {\n",
        "        ListNode* slow = head;\n",
        "        ListNode* fast = head;\n",
        "        bool isCycle = false;\n",
        "\n",
        "        while(fast != NULL && fast->next != NULL){\n",
        "             slow = slow->next;\n",
        "             fast = fast->next->next;\n",
        "\n",
        "             if(slow == fast){\n",
        "                isCycle = true;\n",
        "                break;\n",
        "             }\n",
        "        }\n",
        "\n",
        "        if(!isCycle){\n",
        "            return NULL;\n",
        "        }\n",
        "\n",
        "        slow = head;\n",
        "        ListNode* prev = NULL;\n",
        "\n",
        "        while(slow != fast) {\n",
        "          prev = fast;\n",
        "          slow = slow->next;\n",
        "          fast = fast->next;\n",
        "        }\n",
        "        prev->next = NULL;\n",
        "        return slow;\n",
        "\n",
        "    }\n",
        "};"
      ],
      "metadata": {
        "id": "WA6KTiwILJbP"
      },
      "execution_count": null,
      "outputs": []
    },
    {
      "cell_type": "markdown",
      "source": [
        "## Merge Two Sorted Lists"
      ],
      "metadata": {
        "id": "MHWTXNqgTN0K"
      }
    },
    {
      "cell_type": "code",
      "source": [
        "%%writefile mergeSorted.cpp\n",
        "\n",
        "\n",
        "/**\n",
        " * Definition for singly-linked list.\n",
        " * struct ListNode {\n",
        " *     int val;\n",
        " *     ListNode *next;\n",
        " *     ListNode() : val(0), next(nullptr) {}\n",
        " *     ListNode(int x) : val(x), next(nullptr) {}\n",
        " *     ListNode(int x, ListNode *next) : val(x), next(next) {}\n",
        " * };\n",
        " */\n",
        "class Solution {\n",
        "public:\n",
        "    ListNode* mergeTwoLists(ListNode* list1, ListNode* list2){\n",
        "        if(list1 == NULL || list2 == NULL){\n",
        "            return list1 == NULL ? list2 : list1;\n",
        "        }\n",
        "\n",
        "        if(list1->val <= list2->val){\n",
        "           list1->next = mergeTwoLists(list1->next , list2);\n",
        "           return list1;\n",
        "\n",
        "        }else{\n",
        "           list2->next = mergeTwoLists(list1 , list2->next);\n",
        "            return list2;\n",
        "        }\n",
        "    }\n",
        "};"
      ],
      "metadata": {
        "id": "m10-owPBTSSn"
      },
      "execution_count": null,
      "outputs": []
    },
    {
      "cell_type": "markdown",
      "source": [
        "## Copy list with random pointers"
      ],
      "metadata": {
        "id": "cpbnjQoMvB2B"
      }
    },
    {
      "cell_type": "code",
      "source": [
        "%%writefile copyll.cpp\n",
        "\n",
        "\n",
        "/*\n",
        "// Definition for a Node.\n",
        "class Node {\n",
        "public:\n",
        "    int val;\n",
        "    Node* next;\n",
        "    Node* random;\n",
        "\n",
        "    Node(int _val) {\n",
        "        val = _val;\n",
        "        next = NULL;\n",
        "        random = NULL;\n",
        "    }\n",
        "};\n",
        "*/\n",
        "\n",
        "class Solution {\n",
        "public:\n",
        "    Node* copyRandomList(Node* head) {\n",
        "        if(head==NULL){\n",
        "            return NULL;\n",
        "        }\n",
        "\n",
        "        unordered_map<Node*,Node*>m;\n",
        "\n",
        "        Node* newHead = new Node(head->val);\n",
        "        Node* oldtemp = head->next;\n",
        "        Node* newtemp = newHead;\n",
        "        m[head] = newHead;\n",
        "        while(oldtemp != NULL) {\n",
        "\n",
        "          Node* copyNode = new Node(oldtemp->val);\n",
        "          m[oldtemp] = copyNode;\n",
        "          newtemp->next = copyNode;\n",
        "          oldtemp = oldtemp->next;\n",
        "          newtemp = newtemp->next;\n",
        "\n",
        "        }\n",
        "\n",
        "        oldtemp = head;\n",
        "        newtemp = newHead;\n",
        "\n",
        "        while(oldtemp != NULL){\n",
        "            newtemp->random = m[oldtemp->random];\n",
        "            oldtemp = oldtemp->next;\n",
        "            newtemp = newtemp->next;\n",
        "        }\n",
        "        return newHead;\n",
        "    }\n",
        "};"
      ],
      "metadata": {
        "id": "non4373AvEQ6",
        "colab": {
          "base_uri": "https://localhost:8080/"
        },
        "outputId": "45a707f1-1603-4d7d-b381-52b7adadbd21"
      },
      "execution_count": null,
      "outputs": [
        {
          "output_type": "stream",
          "name": "stdout",
          "text": [
            "Writing copyll.cpp\n"
          ]
        }
      ]
    },
    {
      "cell_type": "markdown",
      "source": [
        "## Doubly Linked list"
      ],
      "metadata": {
        "id": "UW8Nj_8R0HEB"
      }
    },
    {
      "cell_type": "code",
      "source": [
        "%%writefile doublyll.cpp\n",
        "\n",
        "class Node {\n",
        "\n",
        "  public:\n",
        "      int data;\n",
        "      Node* prev;\n",
        "      Node* next;\n",
        "\n",
        "      Node(int val){\n",
        "        data = val;\n",
        "        next = prev = NULL;\n",
        "      }\n",
        "};\n",
        "\n",
        "\n",
        "class DoublyList {\n",
        "   Node* head;\n",
        "   Node* tail;\n",
        "\n",
        "public:\n",
        "   DoublyList() {\n",
        "       head = tail = NULL;\n",
        "   }\n",
        "\n",
        "  void push_front(int val){\n",
        "\n",
        "    Node* newNode = new Node(val);\n",
        "\n",
        "     if(head == NULL){\n",
        "       head = tail = newNode;\n",
        "\n",
        "     }else{\n",
        "\n",
        "       newNode->next = head;\n",
        "       head->prev = newNode;\n",
        "       head = newNode;\n",
        "\n",
        "     }\n",
        "  }\n",
        "\n",
        "  void push_back(int val){\n",
        "     Node* newNode = new Node(val);\n",
        "\n",
        "     if(head == NULL){\n",
        "       head = tail = newNode;\n",
        "\n",
        "     }else{\n",
        "\n",
        "       tail->next = newNode;\n",
        "       newNode->prev = tail;\n",
        "       tail = newNode;\n",
        "\n",
        "     }\n",
        "}\n",
        "\n",
        "void pop_front(){\n",
        "\n",
        "  if(head == NULL){\n",
        "    cout << \"DLL is empty\\n\";\n",
        "  }\n",
        "\n",
        "  Node* temp = head;\n",
        "  head = head->next;\n",
        "\n",
        "  if(head != NULL){\n",
        "     head->prev = NULL;\n",
        "  }\n",
        "\n",
        "  temp->next = NULL;\n",
        "  delete temp;\n",
        "\n",
        "}\n",
        "\n",
        "void pop_back() {\n",
        "\n",
        "  if(head == NULL){\n",
        "    cout << \"DLL is empty\\n\";\n",
        "  }\n",
        "\n",
        "  Node* temp = tail;\n",
        "  tail = tail->prev;\n",
        "\n",
        "  if(tail != NULL){\n",
        "     tail->next = NULL;\n",
        "  }\n",
        "\n",
        "  temp->prev = NULL;\n",
        "  delete temp;\n",
        "}\n",
        "\n",
        "  void print() {\n",
        "\n",
        "    Node* temp = head;\n",
        "\n",
        "    while(temp != NULL){\n",
        "      cout << temp->data << \"<=>\";\n",
        "      temp = temp->next;\n",
        "    }\n",
        "    cout << \"NULL\\n\";\n",
        "   }\n",
        "\n",
        "\n",
        "};\n",
        "\n",
        "\n",
        "int main() {\n",
        "\n",
        "DoublyList dll;\n",
        "\n",
        "dll.push_front(1);\n",
        "dll.push_front(2);\n",
        "dll.push_front(3);\n",
        "\n",
        "dll.push_back(3);\n",
        "dll.push_back(2);\n",
        "dll.push_back(1);\n",
        "\n",
        "dll.pop_front();\n",
        "dll.pop_front();\n",
        "\n",
        "dll.pop_back();\n",
        "dll.pop_back();\n",
        "\n",
        "dll.print();\n",
        "\n",
        "  return 0;\n",
        "}"
      ],
      "metadata": {
        "colab": {
          "base_uri": "https://localhost:8080/"
        },
        "id": "conhW-wi0N1C",
        "outputId": "3bf086d8-c084-4140-afa2-516212a57243"
      },
      "execution_count": null,
      "outputs": [
        {
          "output_type": "stream",
          "name": "stdout",
          "text": [
            "Overwriting doublyll.cpp\n"
          ]
        }
      ]
    },
    {
      "cell_type": "markdown",
      "source": [
        "## Circular LinkedList"
      ],
      "metadata": {
        "id": "JPv-VBqp-kys"
      }
    },
    {
      "cell_type": "code",
      "source": [
        "%%writefile circularll.cpp\n",
        "\n",
        "class Node {\n",
        "\n",
        "public:\n",
        "\n",
        "  int data;\n",
        "  Node* next;\n",
        "\n",
        "  Node(int val){\n",
        "       data = val;\n",
        "       next = NULL;\n",
        "  }\n",
        "\n",
        "};\n",
        "\n",
        "class circularList {\n",
        "   Node* head;\n",
        "   Node* tail;\n",
        "\n",
        "public:\n",
        "\n",
        "   CircularList(){\n",
        "       head = tail = NULL;\n",
        "   }\n",
        "\n",
        "   void insertAtHead(int val) {\n",
        "\n",
        "      Node* newNode = new Node(val);\n",
        "\n",
        "      if(tail == NULL) {\n",
        "         head = tail = newNode;\n",
        "         tail->next = head;\n",
        "      }\n",
        "      else{\n",
        "        newNode->next = head;\n",
        "        head = newNode;\n",
        "        tail->next = head;\n",
        "      }\n",
        "   }\n",
        "\n",
        "\n",
        "   void insertAtTail(int val) {\n",
        "\n",
        "     Node* newNode = new Node(val);\n",
        "\n",
        "      if(tail == NULL) {\n",
        "         head = tail = newNode;\n",
        "         tail->next = head;\n",
        "      }\n",
        "      else{\n",
        "        newNode->next = head;\n",
        "        tail->next = newNode;\n",
        "        tail = newNode;\n",
        "      }\n",
        "\n",
        "   }\n",
        "\n",
        "   void deleteAtHead(){\n",
        "\n",
        "    if(head == NULL) return;\n",
        "    else if(head == tail) {\n",
        "\n",
        "       delete head;\n",
        "       head = tail = NULL;\n",
        "\n",
        "    }else{  //2 or more\n",
        "       Node* temp = head;\n",
        "       head = head->next;\n",
        "       tail->next = head;\n",
        "\n",
        "       temp->next = NULL;\n",
        "       delete temp;\n",
        "    }\n",
        "\n",
        "}\n",
        "\n",
        "  void deleteAtTail() {\n",
        "\n",
        "      if(head == NULL){\n",
        "         return;\n",
        "      }\n",
        "\n",
        "      else if(head == tail){\n",
        "\n",
        "         delete head;\n",
        "         head = tail = NULL;\n",
        "\n",
        "      } else{\n",
        "         Node* temp = tail;\n",
        "         Node* prev = head;\n",
        "\n",
        "         while(prev->next != tail){\n",
        "           prev = prev->next;\n",
        "         }\n",
        "\n",
        "         tail = prev;\n",
        "         tail->next = head;\n",
        "\n",
        "         temp->next = NULL;\n",
        "         delete temp;\n",
        "      }\n",
        "  }\n",
        "\n",
        "  void print(){\n",
        "\n",
        "      if(head == NULL) return;\n",
        "      cout << head->data << \"->\";\n",
        "      Node* temp = head->next;\n",
        "\n",
        "      while(temp != head) { //temp != NULL\n",
        "          cout << temp->data << \"->\";\n",
        "          temp = temp->next;\n",
        "      }\n",
        "\n",
        "      cout << head->data << endl;\n",
        "\n",
        "   }\n",
        "\n",
        "};\n",
        "\n",
        "\n",
        "int main() {\n",
        "\n",
        "CircularList cll;\n",
        "\n",
        "cll.insertAtHead(1);\n",
        "cll.insertAtHead(2);\n",
        "cll.insertAtHead(3);\n",
        "\n",
        "cll.deleteAtHead();\n",
        "cll.deleteAtHead();\n",
        "cll.deleteAtHead();\n",
        "\n",
        "cll.print();\n",
        "\n",
        "   return 0;\n",
        "}"
      ],
      "metadata": {
        "colab": {
          "base_uri": "https://localhost:8080/"
        },
        "id": "fxGipBz84JYH",
        "outputId": "452b99c7-6a46-40e3-ea87-43c6298f2401"
      },
      "execution_count": null,
      "outputs": [
        {
          "output_type": "stream",
          "name": "stdout",
          "text": [
            "Writing circularll.cpp\n"
          ]
        }
      ]
    },
    {
      "cell_type": "markdown",
      "source": [
        "## Flatten a double Linked list"
      ],
      "metadata": {
        "id": "KKq5W0dDyeVg"
      }
    },
    {
      "cell_type": "code",
      "source": [
        "%%writefile flattendoubly.cpp\n",
        "\n",
        "/*\n",
        "// Definition for a Node.\n",
        "class Node {\n",
        "public:\n",
        "    int val;\n",
        "    Node* prev;\n",
        "    Node* next;\n",
        "    Node* child;\n",
        "};\n",
        "*/\n",
        "\n",
        "class Solution {\n",
        "public:\n",
        "    Node* flatten(Node* head) {\n",
        "        Node* curr = head;\n",
        "        while(curr != NULL){\n",
        "            if(curr->child != NULL){\n",
        "               Node* next = curr->next;\n",
        "               curr->next = flatten(curr->child);\n",
        "               curr->next->prev = curr;\n",
        "               curr->child = NULL;\n",
        "\n",
        "            while(curr->next != NULL){\n",
        "              curr = curr->next;\n",
        "            }\n",
        "\n",
        "            if(next != NULL){\n",
        "               curr->next = next;\n",
        "               next->prev = curr;\n",
        "            }\n",
        "\n",
        "\n",
        "\n",
        "            }\n",
        "            curr = curr->next;\n",
        "        }\n",
        "\n",
        "        return head;\n",
        "\n",
        "    }\n",
        "};"
      ],
      "metadata": {
        "id": "fm7CRUNWyiVZ"
      },
      "execution_count": null,
      "outputs": []
    },
    {
      "cell_type": "markdown",
      "source": [
        "## Reverse Nodes in K-group"
      ],
      "metadata": {
        "id": "4aNoCZRSIhEK"
      }
    },
    {
      "cell_type": "code",
      "source": [
        "%%writefile reverse_nodes.cpp\n",
        "\n",
        "/**\n",
        " * Definition for singly-linked list.\n",
        " * struct ListNode {\n",
        " *     int val;\n",
        " *     ListNode *next;\n",
        " *     ListNode() : val(0), next(nullptr) {}\n",
        " *     ListNode(int x) : val(x), next(nullptr) {}\n",
        " *     ListNode(int x, ListNode *next) : val(x), next(next) {}\n",
        " * };\n",
        " */\n",
        "class Solution {\n",
        "public:\n",
        "    ListNode* reverseKGroup(ListNode* head, int k) {\n",
        "        ListNode* temp = head;\n",
        "        int count = 0;\n",
        "        //check if k nodes exist\n",
        "\n",
        "        while(count < k){\n",
        "            if(temp == NULL){\n",
        "                return head;\n",
        "            }\n",
        "\n",
        "            temp = temp->next;\n",
        "            count++;\n",
        "        }\n",
        "\n",
        "        ListNode* prevNode = reverseKGroup(temp , k);\n",
        "\n",
        "        //reverse current group\n",
        "        temp = head; count = 0;\n",
        "        while(count < k){\n",
        "            ListNode* next = temp->next;\n",
        "            temp->next = prevNode;\n",
        "\n",
        "            prevNode = temp;\n",
        "            temp = next;\n",
        "            count++;\n",
        "        }\n",
        "\n",
        "        return prevNode;\n",
        "    }\n",
        "};"
      ],
      "metadata": {
        "id": "zjfCnWPNIlVT"
      },
      "execution_count": null,
      "outputs": []
    },
    {
      "cell_type": "markdown",
      "source": [
        "## Swap Nodes in Pairs"
      ],
      "metadata": {
        "id": "tNRTNKR7bAZB"
      }
    },
    {
      "cell_type": "code",
      "source": [
        "%%writefile swapNodes.cpp\n",
        "\n",
        "/**\n",
        " * Definition for singly-linked list.\n",
        " * struct ListNode {\n",
        " *     int val;\n",
        " *     ListNode *next;\n",
        " *     ListNode() : val(0), next(nullptr) {}\n",
        " *     ListNode(int x) : val(x), next(nullptr) {}\n",
        " *     ListNode(int x, ListNode *next) : val(x), next(next) {}\n",
        " * };\n",
        " */\n",
        "class Solution {\n",
        "public:\n",
        "    ListNode* swap_Pairs(ListNode* head) {\n",
        "        ListNode* temp = head;\n",
        "        int count = 0;\n",
        "        //check if k nodes exist\n",
        "\n",
        "        while(count < 2){\n",
        "            if(temp == NULL){\n",
        "                return head;\n",
        "            }\n",
        "\n",
        "            temp = temp->next;\n",
        "            count++;\n",
        "        }\n",
        "\n",
        "        ListNode* prevNode = swap_Pairs(temp);\n",
        "\n",
        "        //reverse current group\n",
        "        temp = head; count = 0;\n",
        "        while(count < 2){\n",
        "            ListNode* next = temp->next;\n",
        "            temp->next = prevNode;\n",
        "\n",
        "            prevNode = temp;\n",
        "            temp = next;\n",
        "            count++;\n",
        "        }\n",
        "\n",
        "        return prevNode;\n",
        "    }\n",
        "};"
      ],
      "metadata": {
        "id": "wSPhJxdHbDDz"
      },
      "execution_count": null,
      "outputs": []
    }
  ]
}
